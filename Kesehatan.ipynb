{
  "nbformat": 4,
  "nbformat_minor": 0,
  "metadata": {
    "colab": {
      "provenance": []
    },
    "kernelspec": {
      "name": "python3",
      "display_name": "Python 3"
    },
    "language_info": {
      "name": "python"
    }
  },
  "cells": [
    {
      "cell_type": "code",
      "execution_count": 1,
      "metadata": {
        "colab": {
          "base_uri": "https://localhost:8080/"
        },
        "id": "S4uG43JGsaav",
        "outputId": "f226b6b6-ad94-4cf8-a59a-4b74f78c541b"
      },
      "outputs": [
        {
          "output_type": "stream",
          "name": "stdout",
          "text": [
            "Mounted at /content/drive\n"
          ]
        }
      ],
      "source": [
        "import pandas as pd\n",
        "from google.colab import drive #memanggil package  \n",
        "drive.mount('/content/drive') "
      ]
    },
    {
      "cell_type": "code",
      "source": [
        "path = '/content/drive/MyDrive/CSV/tahun-2018---data-jumlah-murid-sd-mendapat-pelayanan-kesehatan.csv'\n",
        "df = pd.read_csv(path)\n",
        "df.describe()"
      ],
      "metadata": {
        "colab": {
          "base_uri": "https://localhost:8080/",
          "height": 300
        },
        "id": "DjBMb4o5untN",
        "outputId": "76ac3f73-9ad4-439a-bdd3-9f59b52a6d3c"
      },
      "execution_count": 3,
      "outputs": [
        {
          "output_type": "execute_result",
          "data": {
            "text/plain": [
              "       Jumlah Murid Kelas 1 SD  Jumlah Murid Kelas 1 SD Mendapat Pelayanan  \\\n",
              "count                30.000000                                   30.000000   \n",
              "mean               1462.266667                                 1462.266667   \n",
              "std                1012.156112                                 1012.156112   \n",
              "min                 297.000000                                  297.000000   \n",
              "25%                 810.250000                                  810.250000   \n",
              "50%                1346.500000                                 1346.500000   \n",
              "75%                1769.750000                                 1769.750000   \n",
              "max                5348.000000                                 5348.000000   \n",
              "\n",
              "       Persentase (%)  \n",
              "count            30.0  \n",
              "mean            100.0  \n",
              "std               0.0  \n",
              "min             100.0  \n",
              "25%             100.0  \n",
              "50%             100.0  \n",
              "75%             100.0  \n",
              "max             100.0  "
            ],
            "text/html": [
              "\n",
              "  <div id=\"df-733f9704-5003-4149-8a34-0b6bd1ba924c\">\n",
              "    <div class=\"colab-df-container\">\n",
              "      <div>\n",
              "<style scoped>\n",
              "    .dataframe tbody tr th:only-of-type {\n",
              "        vertical-align: middle;\n",
              "    }\n",
              "\n",
              "    .dataframe tbody tr th {\n",
              "        vertical-align: top;\n",
              "    }\n",
              "\n",
              "    .dataframe thead th {\n",
              "        text-align: right;\n",
              "    }\n",
              "</style>\n",
              "<table border=\"1\" class=\"dataframe\">\n",
              "  <thead>\n",
              "    <tr style=\"text-align: right;\">\n",
              "      <th></th>\n",
              "      <th>Jumlah Murid Kelas 1 SD</th>\n",
              "      <th>Jumlah Murid Kelas 1 SD Mendapat Pelayanan</th>\n",
              "      <th>Persentase (%)</th>\n",
              "    </tr>\n",
              "  </thead>\n",
              "  <tbody>\n",
              "    <tr>\n",
              "      <th>count</th>\n",
              "      <td>30.000000</td>\n",
              "      <td>30.000000</td>\n",
              "      <td>30.0</td>\n",
              "    </tr>\n",
              "    <tr>\n",
              "      <th>mean</th>\n",
              "      <td>1462.266667</td>\n",
              "      <td>1462.266667</td>\n",
              "      <td>100.0</td>\n",
              "    </tr>\n",
              "    <tr>\n",
              "      <th>std</th>\n",
              "      <td>1012.156112</td>\n",
              "      <td>1012.156112</td>\n",
              "      <td>0.0</td>\n",
              "    </tr>\n",
              "    <tr>\n",
              "      <th>min</th>\n",
              "      <td>297.000000</td>\n",
              "      <td>297.000000</td>\n",
              "      <td>100.0</td>\n",
              "    </tr>\n",
              "    <tr>\n",
              "      <th>25%</th>\n",
              "      <td>810.250000</td>\n",
              "      <td>810.250000</td>\n",
              "      <td>100.0</td>\n",
              "    </tr>\n",
              "    <tr>\n",
              "      <th>50%</th>\n",
              "      <td>1346.500000</td>\n",
              "      <td>1346.500000</td>\n",
              "      <td>100.0</td>\n",
              "    </tr>\n",
              "    <tr>\n",
              "      <th>75%</th>\n",
              "      <td>1769.750000</td>\n",
              "      <td>1769.750000</td>\n",
              "      <td>100.0</td>\n",
              "    </tr>\n",
              "    <tr>\n",
              "      <th>max</th>\n",
              "      <td>5348.000000</td>\n",
              "      <td>5348.000000</td>\n",
              "      <td>100.0</td>\n",
              "    </tr>\n",
              "  </tbody>\n",
              "</table>\n",
              "</div>\n",
              "      <button class=\"colab-df-convert\" onclick=\"convertToInteractive('df-733f9704-5003-4149-8a34-0b6bd1ba924c')\"\n",
              "              title=\"Convert this dataframe to an interactive table.\"\n",
              "              style=\"display:none;\">\n",
              "        \n",
              "  <svg xmlns=\"http://www.w3.org/2000/svg\" height=\"24px\"viewBox=\"0 0 24 24\"\n",
              "       width=\"24px\">\n",
              "    <path d=\"M0 0h24v24H0V0z\" fill=\"none\"/>\n",
              "    <path d=\"M18.56 5.44l.94 2.06.94-2.06 2.06-.94-2.06-.94-.94-2.06-.94 2.06-2.06.94zm-11 1L8.5 8.5l.94-2.06 2.06-.94-2.06-.94L8.5 2.5l-.94 2.06-2.06.94zm10 10l.94 2.06.94-2.06 2.06-.94-2.06-.94-.94-2.06-.94 2.06-2.06.94z\"/><path d=\"M17.41 7.96l-1.37-1.37c-.4-.4-.92-.59-1.43-.59-.52 0-1.04.2-1.43.59L10.3 9.45l-7.72 7.72c-.78.78-.78 2.05 0 2.83L4 21.41c.39.39.9.59 1.41.59.51 0 1.02-.2 1.41-.59l7.78-7.78 2.81-2.81c.8-.78.8-2.07 0-2.86zM5.41 20L4 18.59l7.72-7.72 1.47 1.35L5.41 20z\"/>\n",
              "  </svg>\n",
              "      </button>\n",
              "      \n",
              "  <style>\n",
              "    .colab-df-container {\n",
              "      display:flex;\n",
              "      flex-wrap:wrap;\n",
              "      gap: 12px;\n",
              "    }\n",
              "\n",
              "    .colab-df-convert {\n",
              "      background-color: #E8F0FE;\n",
              "      border: none;\n",
              "      border-radius: 50%;\n",
              "      cursor: pointer;\n",
              "      display: none;\n",
              "      fill: #1967D2;\n",
              "      height: 32px;\n",
              "      padding: 0 0 0 0;\n",
              "      width: 32px;\n",
              "    }\n",
              "\n",
              "    .colab-df-convert:hover {\n",
              "      background-color: #E2EBFA;\n",
              "      box-shadow: 0px 1px 2px rgba(60, 64, 67, 0.3), 0px 1px 3px 1px rgba(60, 64, 67, 0.15);\n",
              "      fill: #174EA6;\n",
              "    }\n",
              "\n",
              "    [theme=dark] .colab-df-convert {\n",
              "      background-color: #3B4455;\n",
              "      fill: #D2E3FC;\n",
              "    }\n",
              "\n",
              "    [theme=dark] .colab-df-convert:hover {\n",
              "      background-color: #434B5C;\n",
              "      box-shadow: 0px 1px 3px 1px rgba(0, 0, 0, 0.15);\n",
              "      filter: drop-shadow(0px 1px 2px rgba(0, 0, 0, 0.3));\n",
              "      fill: #FFFFFF;\n",
              "    }\n",
              "  </style>\n",
              "\n",
              "      <script>\n",
              "        const buttonEl =\n",
              "          document.querySelector('#df-733f9704-5003-4149-8a34-0b6bd1ba924c button.colab-df-convert');\n",
              "        buttonEl.style.display =\n",
              "          google.colab.kernel.accessAllowed ? 'block' : 'none';\n",
              "\n",
              "        async function convertToInteractive(key) {\n",
              "          const element = document.querySelector('#df-733f9704-5003-4149-8a34-0b6bd1ba924c');\n",
              "          const dataTable =\n",
              "            await google.colab.kernel.invokeFunction('convertToInteractive',\n",
              "                                                     [key], {});\n",
              "          if (!dataTable) return;\n",
              "\n",
              "          const docLinkHtml = 'Like what you see? Visit the ' +\n",
              "            '<a target=\"_blank\" href=https://colab.research.google.com/notebooks/data_table.ipynb>data table notebook</a>'\n",
              "            + ' to learn more about interactive tables.';\n",
              "          element.innerHTML = '';\n",
              "          dataTable['output_type'] = 'display_data';\n",
              "          await google.colab.output.renderOutput(dataTable, element);\n",
              "          const docLink = document.createElement('div');\n",
              "          docLink.innerHTML = docLinkHtml;\n",
              "          element.appendChild(docLink);\n",
              "        }\n",
              "      </script>\n",
              "    </div>\n",
              "  </div>\n",
              "  "
            ]
          },
          "metadata": {},
          "execution_count": 3
        }
      ]
    },
    {
      "cell_type": "code",
      "source": [
        "df"
      ],
      "metadata": {
        "colab": {
          "base_uri": "https://localhost:8080/",
          "height": 1000
        },
        "id": "aMpzRnyLu_qj",
        "outputId": "13c615af-b39b-4367-fae7-92f170b919df"
      },
      "execution_count": 4,
      "outputs": [
        {
          "output_type": "execute_result",
          "data": {
            "text/plain": [
              "   Kode Kecamatan        Kecamatan           UPT Puskesmas  \\\n",
              "0        32.73.01          Sukasari           UPT Sukarasa   \n",
              "1        32.73.07          Sukajadi          UPT Sukajadi    \n",
              "2        32.73.06           Cicendo        UPT Pasirkaliki   \n",
              "3        32.73.05             Andir             UPT Garuda   \n",
              "4        32.73.08           Cidadap       UPT Ciumbuleuit    \n",
              "5        32.73.02           Coblong             UPT Puter    \n",
              "6        32.73.09     Bandung Wetan              UPT Salam   \n",
              "7        32.73.19     Sumur Bandung           UPT Tamblong   \n",
              "8        32.73.18  Cibeunying Kaler         UPT Neglasari    \n",
              "9        32.73.14  Cibeunying Kidul           UPT Padasuka   \n",
              "10       32.73.16      Kiaracondong       UPT Babakan Sari   \n",
              "11       32.73.12       Batununggal       UPT Ibrahim Aji    \n",
              "12       32.73.13          Lengkong        UPT Talagabodas   \n",
              "13       32.73.11             Regol           UPT Pasundan   \n",
              "14       32.73.10       Astanaanyar           UPT Pagarsih   \n",
              "15       32.73.04   Bojongloa Kaler            UPT Cetarip   \n",
              "16       32.73.17   Bojongloa Kidul               UPT Kopo   \n",
              "17       32.73.03   Babakan Ciparay           UPT Caringin   \n",
              "18       32.73.15     Bandung Kulon           UPT Cibuntu    \n",
              "19       32.73.20          Antapani     UPT Griya Antapani   \n",
              "20       32.73.30       Mandalajati        UPT Sindangjaya   \n",
              "21       32.73.24         Arcamanik          UPT Arcamanik   \n",
              "22       32.73.26       Ujungberung  UPT Ujungberung Indah   \n",
              "23       32.73.29           Cinambo            UPT Cinambo   \n",
              "24       32.73.25            Cibiru            UPT Cibiru    \n",
              "25       32.73.28       Panyileukan          UPT Panghegar   \n",
              "26       32.73.27          Gedebage      UPT Riung Bandung   \n",
              "27       32.73.23         Rancasari        UPT Cipamokolan   \n",
              "28       32.73.22          Buahbatu     UPT Margahayu Raya   \n",
              "29       32.73.21     Bandung Kidul        UPT Kujangsari    \n",
              "\n",
              "    Jumlah Murid Kelas 1 SD  Jumlah Murid Kelas 1 SD Mendapat Pelayanan  \\\n",
              "0                      1342                                        1342   \n",
              "1                      1158                                        1158   \n",
              "2                      1819                                        1819   \n",
              "3                      2147                                        2147   \n",
              "4                       916                                         916   \n",
              "5                      1754                                        1754   \n",
              "6                      5348                                        5348   \n",
              "7                       583                                         583   \n",
              "8                      1051                                        1051   \n",
              "9                      1572                                        1572   \n",
              "10                     2219                                        2219   \n",
              "11                     1775                                        1775   \n",
              "12                     1322                                        1322   \n",
              "13                      775                                         775   \n",
              "14                     1398                                        1398   \n",
              "15                      297                                         297   \n",
              "16                     1422                                        1422   \n",
              "17                     2499                                        2499   \n",
              "18                     3389                                        3389   \n",
              "19                      376                                         376   \n",
              "20                     1040                                        1040   \n",
              "21                     1365                                        1365   \n",
              "22                     1062                                        1062   \n",
              "23                      383                                         383   \n",
              "24                     1351                                        1351   \n",
              "25                      499                                         499   \n",
              "26                      693                                         693   \n",
              "27                     1469                                        1469   \n",
              "28                     2139                                        2139   \n",
              "29                      705                                         705   \n",
              "\n",
              "    Persentase (%)  \n",
              "0              100  \n",
              "1              100  \n",
              "2              100  \n",
              "3              100  \n",
              "4              100  \n",
              "5              100  \n",
              "6              100  \n",
              "7              100  \n",
              "8              100  \n",
              "9              100  \n",
              "10             100  \n",
              "11             100  \n",
              "12             100  \n",
              "13             100  \n",
              "14             100  \n",
              "15             100  \n",
              "16             100  \n",
              "17             100  \n",
              "18             100  \n",
              "19             100  \n",
              "20             100  \n",
              "21             100  \n",
              "22             100  \n",
              "23             100  \n",
              "24             100  \n",
              "25             100  \n",
              "26             100  \n",
              "27             100  \n",
              "28             100  \n",
              "29             100  "
            ],
            "text/html": [
              "\n",
              "  <div id=\"df-7d6ce50c-2e3d-4e3b-9512-c6d1efc5a358\">\n",
              "    <div class=\"colab-df-container\">\n",
              "      <div>\n",
              "<style scoped>\n",
              "    .dataframe tbody tr th:only-of-type {\n",
              "        vertical-align: middle;\n",
              "    }\n",
              "\n",
              "    .dataframe tbody tr th {\n",
              "        vertical-align: top;\n",
              "    }\n",
              "\n",
              "    .dataframe thead th {\n",
              "        text-align: right;\n",
              "    }\n",
              "</style>\n",
              "<table border=\"1\" class=\"dataframe\">\n",
              "  <thead>\n",
              "    <tr style=\"text-align: right;\">\n",
              "      <th></th>\n",
              "      <th>Kode Kecamatan</th>\n",
              "      <th>Kecamatan</th>\n",
              "      <th>UPT Puskesmas</th>\n",
              "      <th>Jumlah Murid Kelas 1 SD</th>\n",
              "      <th>Jumlah Murid Kelas 1 SD Mendapat Pelayanan</th>\n",
              "      <th>Persentase (%)</th>\n",
              "    </tr>\n",
              "  </thead>\n",
              "  <tbody>\n",
              "    <tr>\n",
              "      <th>0</th>\n",
              "      <td>32.73.01</td>\n",
              "      <td>Sukasari</td>\n",
              "      <td>UPT Sukarasa</td>\n",
              "      <td>1342</td>\n",
              "      <td>1342</td>\n",
              "      <td>100</td>\n",
              "    </tr>\n",
              "    <tr>\n",
              "      <th>1</th>\n",
              "      <td>32.73.07</td>\n",
              "      <td>Sukajadi</td>\n",
              "      <td>UPT Sukajadi</td>\n",
              "      <td>1158</td>\n",
              "      <td>1158</td>\n",
              "      <td>100</td>\n",
              "    </tr>\n",
              "    <tr>\n",
              "      <th>2</th>\n",
              "      <td>32.73.06</td>\n",
              "      <td>Cicendo</td>\n",
              "      <td>UPT Pasirkaliki</td>\n",
              "      <td>1819</td>\n",
              "      <td>1819</td>\n",
              "      <td>100</td>\n",
              "    </tr>\n",
              "    <tr>\n",
              "      <th>3</th>\n",
              "      <td>32.73.05</td>\n",
              "      <td>Andir</td>\n",
              "      <td>UPT Garuda</td>\n",
              "      <td>2147</td>\n",
              "      <td>2147</td>\n",
              "      <td>100</td>\n",
              "    </tr>\n",
              "    <tr>\n",
              "      <th>4</th>\n",
              "      <td>32.73.08</td>\n",
              "      <td>Cidadap</td>\n",
              "      <td>UPT Ciumbuleuit</td>\n",
              "      <td>916</td>\n",
              "      <td>916</td>\n",
              "      <td>100</td>\n",
              "    </tr>\n",
              "    <tr>\n",
              "      <th>5</th>\n",
              "      <td>32.73.02</td>\n",
              "      <td>Coblong</td>\n",
              "      <td>UPT Puter</td>\n",
              "      <td>1754</td>\n",
              "      <td>1754</td>\n",
              "      <td>100</td>\n",
              "    </tr>\n",
              "    <tr>\n",
              "      <th>6</th>\n",
              "      <td>32.73.09</td>\n",
              "      <td>Bandung Wetan</td>\n",
              "      <td>UPT Salam</td>\n",
              "      <td>5348</td>\n",
              "      <td>5348</td>\n",
              "      <td>100</td>\n",
              "    </tr>\n",
              "    <tr>\n",
              "      <th>7</th>\n",
              "      <td>32.73.19</td>\n",
              "      <td>Sumur Bandung</td>\n",
              "      <td>UPT Tamblong</td>\n",
              "      <td>583</td>\n",
              "      <td>583</td>\n",
              "      <td>100</td>\n",
              "    </tr>\n",
              "    <tr>\n",
              "      <th>8</th>\n",
              "      <td>32.73.18</td>\n",
              "      <td>Cibeunying Kaler</td>\n",
              "      <td>UPT Neglasari</td>\n",
              "      <td>1051</td>\n",
              "      <td>1051</td>\n",
              "      <td>100</td>\n",
              "    </tr>\n",
              "    <tr>\n",
              "      <th>9</th>\n",
              "      <td>32.73.14</td>\n",
              "      <td>Cibeunying Kidul</td>\n",
              "      <td>UPT Padasuka</td>\n",
              "      <td>1572</td>\n",
              "      <td>1572</td>\n",
              "      <td>100</td>\n",
              "    </tr>\n",
              "    <tr>\n",
              "      <th>10</th>\n",
              "      <td>32.73.16</td>\n",
              "      <td>Kiaracondong</td>\n",
              "      <td>UPT Babakan Sari</td>\n",
              "      <td>2219</td>\n",
              "      <td>2219</td>\n",
              "      <td>100</td>\n",
              "    </tr>\n",
              "    <tr>\n",
              "      <th>11</th>\n",
              "      <td>32.73.12</td>\n",
              "      <td>Batununggal</td>\n",
              "      <td>UPT Ibrahim Aji</td>\n",
              "      <td>1775</td>\n",
              "      <td>1775</td>\n",
              "      <td>100</td>\n",
              "    </tr>\n",
              "    <tr>\n",
              "      <th>12</th>\n",
              "      <td>32.73.13</td>\n",
              "      <td>Lengkong</td>\n",
              "      <td>UPT Talagabodas</td>\n",
              "      <td>1322</td>\n",
              "      <td>1322</td>\n",
              "      <td>100</td>\n",
              "    </tr>\n",
              "    <tr>\n",
              "      <th>13</th>\n",
              "      <td>32.73.11</td>\n",
              "      <td>Regol</td>\n",
              "      <td>UPT Pasundan</td>\n",
              "      <td>775</td>\n",
              "      <td>775</td>\n",
              "      <td>100</td>\n",
              "    </tr>\n",
              "    <tr>\n",
              "      <th>14</th>\n",
              "      <td>32.73.10</td>\n",
              "      <td>Astanaanyar</td>\n",
              "      <td>UPT Pagarsih</td>\n",
              "      <td>1398</td>\n",
              "      <td>1398</td>\n",
              "      <td>100</td>\n",
              "    </tr>\n",
              "    <tr>\n",
              "      <th>15</th>\n",
              "      <td>32.73.04</td>\n",
              "      <td>Bojongloa Kaler</td>\n",
              "      <td>UPT Cetarip</td>\n",
              "      <td>297</td>\n",
              "      <td>297</td>\n",
              "      <td>100</td>\n",
              "    </tr>\n",
              "    <tr>\n",
              "      <th>16</th>\n",
              "      <td>32.73.17</td>\n",
              "      <td>Bojongloa Kidul</td>\n",
              "      <td>UPT Kopo</td>\n",
              "      <td>1422</td>\n",
              "      <td>1422</td>\n",
              "      <td>100</td>\n",
              "    </tr>\n",
              "    <tr>\n",
              "      <th>17</th>\n",
              "      <td>32.73.03</td>\n",
              "      <td>Babakan Ciparay</td>\n",
              "      <td>UPT Caringin</td>\n",
              "      <td>2499</td>\n",
              "      <td>2499</td>\n",
              "      <td>100</td>\n",
              "    </tr>\n",
              "    <tr>\n",
              "      <th>18</th>\n",
              "      <td>32.73.15</td>\n",
              "      <td>Bandung Kulon</td>\n",
              "      <td>UPT Cibuntu</td>\n",
              "      <td>3389</td>\n",
              "      <td>3389</td>\n",
              "      <td>100</td>\n",
              "    </tr>\n",
              "    <tr>\n",
              "      <th>19</th>\n",
              "      <td>32.73.20</td>\n",
              "      <td>Antapani</td>\n",
              "      <td>UPT Griya Antapani</td>\n",
              "      <td>376</td>\n",
              "      <td>376</td>\n",
              "      <td>100</td>\n",
              "    </tr>\n",
              "    <tr>\n",
              "      <th>20</th>\n",
              "      <td>32.73.30</td>\n",
              "      <td>Mandalajati</td>\n",
              "      <td>UPT Sindangjaya</td>\n",
              "      <td>1040</td>\n",
              "      <td>1040</td>\n",
              "      <td>100</td>\n",
              "    </tr>\n",
              "    <tr>\n",
              "      <th>21</th>\n",
              "      <td>32.73.24</td>\n",
              "      <td>Arcamanik</td>\n",
              "      <td>UPT Arcamanik</td>\n",
              "      <td>1365</td>\n",
              "      <td>1365</td>\n",
              "      <td>100</td>\n",
              "    </tr>\n",
              "    <tr>\n",
              "      <th>22</th>\n",
              "      <td>32.73.26</td>\n",
              "      <td>Ujungberung</td>\n",
              "      <td>UPT Ujungberung Indah</td>\n",
              "      <td>1062</td>\n",
              "      <td>1062</td>\n",
              "      <td>100</td>\n",
              "    </tr>\n",
              "    <tr>\n",
              "      <th>23</th>\n",
              "      <td>32.73.29</td>\n",
              "      <td>Cinambo</td>\n",
              "      <td>UPT Cinambo</td>\n",
              "      <td>383</td>\n",
              "      <td>383</td>\n",
              "      <td>100</td>\n",
              "    </tr>\n",
              "    <tr>\n",
              "      <th>24</th>\n",
              "      <td>32.73.25</td>\n",
              "      <td>Cibiru</td>\n",
              "      <td>UPT Cibiru</td>\n",
              "      <td>1351</td>\n",
              "      <td>1351</td>\n",
              "      <td>100</td>\n",
              "    </tr>\n",
              "    <tr>\n",
              "      <th>25</th>\n",
              "      <td>32.73.28</td>\n",
              "      <td>Panyileukan</td>\n",
              "      <td>UPT Panghegar</td>\n",
              "      <td>499</td>\n",
              "      <td>499</td>\n",
              "      <td>100</td>\n",
              "    </tr>\n",
              "    <tr>\n",
              "      <th>26</th>\n",
              "      <td>32.73.27</td>\n",
              "      <td>Gedebage</td>\n",
              "      <td>UPT Riung Bandung</td>\n",
              "      <td>693</td>\n",
              "      <td>693</td>\n",
              "      <td>100</td>\n",
              "    </tr>\n",
              "    <tr>\n",
              "      <th>27</th>\n",
              "      <td>32.73.23</td>\n",
              "      <td>Rancasari</td>\n",
              "      <td>UPT Cipamokolan</td>\n",
              "      <td>1469</td>\n",
              "      <td>1469</td>\n",
              "      <td>100</td>\n",
              "    </tr>\n",
              "    <tr>\n",
              "      <th>28</th>\n",
              "      <td>32.73.22</td>\n",
              "      <td>Buahbatu</td>\n",
              "      <td>UPT Margahayu Raya</td>\n",
              "      <td>2139</td>\n",
              "      <td>2139</td>\n",
              "      <td>100</td>\n",
              "    </tr>\n",
              "    <tr>\n",
              "      <th>29</th>\n",
              "      <td>32.73.21</td>\n",
              "      <td>Bandung Kidul</td>\n",
              "      <td>UPT Kujangsari</td>\n",
              "      <td>705</td>\n",
              "      <td>705</td>\n",
              "      <td>100</td>\n",
              "    </tr>\n",
              "  </tbody>\n",
              "</table>\n",
              "</div>\n",
              "      <button class=\"colab-df-convert\" onclick=\"convertToInteractive('df-7d6ce50c-2e3d-4e3b-9512-c6d1efc5a358')\"\n",
              "              title=\"Convert this dataframe to an interactive table.\"\n",
              "              style=\"display:none;\">\n",
              "        \n",
              "  <svg xmlns=\"http://www.w3.org/2000/svg\" height=\"24px\"viewBox=\"0 0 24 24\"\n",
              "       width=\"24px\">\n",
              "    <path d=\"M0 0h24v24H0V0z\" fill=\"none\"/>\n",
              "    <path d=\"M18.56 5.44l.94 2.06.94-2.06 2.06-.94-2.06-.94-.94-2.06-.94 2.06-2.06.94zm-11 1L8.5 8.5l.94-2.06 2.06-.94-2.06-.94L8.5 2.5l-.94 2.06-2.06.94zm10 10l.94 2.06.94-2.06 2.06-.94-2.06-.94-.94-2.06-.94 2.06-2.06.94z\"/><path d=\"M17.41 7.96l-1.37-1.37c-.4-.4-.92-.59-1.43-.59-.52 0-1.04.2-1.43.59L10.3 9.45l-7.72 7.72c-.78.78-.78 2.05 0 2.83L4 21.41c.39.39.9.59 1.41.59.51 0 1.02-.2 1.41-.59l7.78-7.78 2.81-2.81c.8-.78.8-2.07 0-2.86zM5.41 20L4 18.59l7.72-7.72 1.47 1.35L5.41 20z\"/>\n",
              "  </svg>\n",
              "      </button>\n",
              "      \n",
              "  <style>\n",
              "    .colab-df-container {\n",
              "      display:flex;\n",
              "      flex-wrap:wrap;\n",
              "      gap: 12px;\n",
              "    }\n",
              "\n",
              "    .colab-df-convert {\n",
              "      background-color: #E8F0FE;\n",
              "      border: none;\n",
              "      border-radius: 50%;\n",
              "      cursor: pointer;\n",
              "      display: none;\n",
              "      fill: #1967D2;\n",
              "      height: 32px;\n",
              "      padding: 0 0 0 0;\n",
              "      width: 32px;\n",
              "    }\n",
              "\n",
              "    .colab-df-convert:hover {\n",
              "      background-color: #E2EBFA;\n",
              "      box-shadow: 0px 1px 2px rgba(60, 64, 67, 0.3), 0px 1px 3px 1px rgba(60, 64, 67, 0.15);\n",
              "      fill: #174EA6;\n",
              "    }\n",
              "\n",
              "    [theme=dark] .colab-df-convert {\n",
              "      background-color: #3B4455;\n",
              "      fill: #D2E3FC;\n",
              "    }\n",
              "\n",
              "    [theme=dark] .colab-df-convert:hover {\n",
              "      background-color: #434B5C;\n",
              "      box-shadow: 0px 1px 3px 1px rgba(0, 0, 0, 0.15);\n",
              "      filter: drop-shadow(0px 1px 2px rgba(0, 0, 0, 0.3));\n",
              "      fill: #FFFFFF;\n",
              "    }\n",
              "  </style>\n",
              "\n",
              "      <script>\n",
              "        const buttonEl =\n",
              "          document.querySelector('#df-7d6ce50c-2e3d-4e3b-9512-c6d1efc5a358 button.colab-df-convert');\n",
              "        buttonEl.style.display =\n",
              "          google.colab.kernel.accessAllowed ? 'block' : 'none';\n",
              "\n",
              "        async function convertToInteractive(key) {\n",
              "          const element = document.querySelector('#df-7d6ce50c-2e3d-4e3b-9512-c6d1efc5a358');\n",
              "          const dataTable =\n",
              "            await google.colab.kernel.invokeFunction('convertToInteractive',\n",
              "                                                     [key], {});\n",
              "          if (!dataTable) return;\n",
              "\n",
              "          const docLinkHtml = 'Like what you see? Visit the ' +\n",
              "            '<a target=\"_blank\" href=https://colab.research.google.com/notebooks/data_table.ipynb>data table notebook</a>'\n",
              "            + ' to learn more about interactive tables.';\n",
              "          element.innerHTML = '';\n",
              "          dataTable['output_type'] = 'display_data';\n",
              "          await google.colab.output.renderOutput(dataTable, element);\n",
              "          const docLink = document.createElement('div');\n",
              "          docLink.innerHTML = docLinkHtml;\n",
              "          element.appendChild(docLink);\n",
              "        }\n",
              "      </script>\n",
              "    </div>\n",
              "  </div>\n",
              "  "
            ]
          },
          "metadata": {},
          "execution_count": 4
        }
      ]
    },
    {
      "cell_type": "code",
      "source": [
        "import matplotlib.pyplot as plt\n",
        "\n",
        "df.plot(kind='scatter',x='Jumlah Murid Kelas 1 SD',y='Jumlah Murid Kelas 1 SD Mendapat Pelayanan')\n",
        "\n",
        "plt.title('Data Kesehatan')\n",
        "plt.xlabel('Jumlah Murid Kelas 1 SD')\n",
        "plt.ylabel('Jumlah Murid Yang Mendapat Pelayanan kesehatan')\n",
        "plt.xlim(0, 5500)\n",
        "plt.ylim(0, 5500)\n",
        "plt.grid(True)\n",
        "plt.show()"
      ],
      "metadata": {
        "colab": {
          "base_uri": "https://localhost:8080/",
          "height": 298
        },
        "id": "sG4yZ8QrvAF7",
        "outputId": "f8e48498-32ad-4e84-81ca-38094ec903c0"
      },
      "execution_count": 27,
      "outputs": [
        {
          "output_type": "display_data",
          "data": {
            "text/plain": [
              "<Figure size 432x288 with 1 Axes>"
            ],
            "image/png": "[encoded data removed]"
          },
          "metadata": {
            "needs_background": "light"
          }
        }
      ]
    },
    {
      "cell_type": "code",
      "source": [
        "import numpy as np\n",
        "x = np.array(df['Jumlah Murid Kelas 1 SD'])\n",
        "y = np.array(df['Jumlah Murid Kelas 1 SD Mendapat Pelayanan'])\n",
        "print(f'X : {x}')\n",
        "print(f'Y : {y}')"
      ],
      "metadata": {
        "colab": {
          "base_uri": "https://localhost:8080/"
        },
        "id": "G75D-esBv0GF",
        "outputId": "749b44f2-66b0-469a-99c3-ac47d429b9a8"
      },
      "execution_count": 8,
      "outputs": [
        {
          "output_type": "stream",
          "name": "stdout",
          "text": [
            "X : [1342 1158 1819 2147  916 1754 5348  583 1051 1572 2219 1775 1322  775\n",
            " 1398  297 1422 2499 3389  376 1040 1365 1062  383 1351  499  693 1469\n",
            " 2139  705]\n",
            "Y : [1342 1158 1819 2147  916 1754 5348  583 1051 1572 2219 1775 1322  775\n",
            " 1398  297 1422 2499 3389  376 1040 1365 1062  383 1351  499  693 1469\n",
            " 2139  705]\n"
          ]
        }
      ]
    },
    {
      "cell_type": "code",
      "source": [
        "x = x.reshape(-1, 1)\n",
        "x.shape"
      ],
      "metadata": {
        "colab": {
          "base_uri": "https://localhost:8080/"
        },
        "id": "OMy5yFvQv9xb",
        "outputId": "347ffb6e-3e32-4c96-d0e0-5bac8877625f"
      },
      "execution_count": 10,
      "outputs": [
        {
          "output_type": "execute_result",
          "data": {
            "text/plain": [
              "(30, 1)"
            ]
          },
          "metadata": {},
          "execution_count": 10
        }
      ]
    },
    {
      "cell_type": "code",
      "source": [
        "x"
      ],
      "metadata": {
        "colab": {
          "base_uri": "https://localhost:8080/"
        },
        "id": "0EXc9obnv_Tz",
        "outputId": "24100107-50a1-4e8e-a8ca-6db84dbd38ef"
      },
      "execution_count": 11,
      "outputs": [
        {
          "output_type": "execute_result",
          "data": {
            "text/plain": [
              "array([[1342],\n",
              "       [1158],\n",
              "       [1819],\n",
              "       [2147],\n",
              "       [ 916],\n",
              "       [1754],\n",
              "       [5348],\n",
              "       [ 583],\n",
              "       [1051],\n",
              "       [1572],\n",
              "       [2219],\n",
              "       [1775],\n",
              "       [1322],\n",
              "       [ 775],\n",
              "       [1398],\n",
              "       [ 297],\n",
              "       [1422],\n",
              "       [2499],\n",
              "       [3389],\n",
              "       [ 376],\n",
              "       [1040],\n",
              "       [1365],\n",
              "       [1062],\n",
              "       [ 383],\n",
              "       [1351],\n",
              "       [ 499],\n",
              "       [ 693],\n",
              "       [1469],\n",
              "       [2139],\n",
              "       [ 705]])"
            ]
          },
          "metadata": {},
          "execution_count": 11
        }
      ]
    },
    {
      "cell_type": "code",
      "source": [
        "from sklearn.linear_model import LinearRegression\n",
        "\n",
        "model = LinearRegression()\n",
        "model.fit(x,y)"
      ],
      "metadata": {
        "colab": {
          "base_uri": "https://localhost:8080/"
        },
        "id": "4zhiUh-Wv_yz",
        "outputId": "d6ceb963-0f54-4a18-bb15-6f9f4b067b64"
      },
      "execution_count": 12,
      "outputs": [
        {
          "output_type": "execute_result",
          "data": {
            "text/plain": [
              "LinearRegression()"
            ]
          },
          "metadata": {},
          "execution_count": 12
        }
      ]
    },
    {
      "cell_type": "code",
      "source": [
        "x_vis = np.array([0, 5500]).reshape(-1,1) #Pembuatan Garis Merah\n",
        "y_vis = model.predict(x_vis) #Model machine learning"
      ],
      "metadata": {
        "id": "zhh-iSTXwCKb"
      },
      "execution_count": 13,
      "outputs": []
    },
    {
      "cell_type": "code",
      "source": [
        "plt.scatter(x,y)\n",
        "plt.plot(x_vis, y_vis, '-r')\n",
        "plt.title('Data kesehatan')\n",
        "plt.xlabel('Jumlah Murid Kelas 1 SD')\n",
        "plt.ylabel('Jumlah Murid Yang Mendapat Pelayanan kesehatan')\n",
        "plt.xlim(0, 5500)\n",
        "plt.ylim(0, 5500)\n",
        "plt.grid(True)\n",
        "plt.show()"
      ],
      "metadata": {
        "colab": {
          "base_uri": "https://localhost:8080/",
          "height": 298
        },
        "id": "3UrALBC4wGGj",
        "outputId": "1f870fdf-d945-4be2-860a-fd8a39a6afb0"
      },
      "execution_count": 28,
      "outputs": [
        {
          "output_type": "display_data",
          "data": {
            "text/plain": [
              "<Figure size 432x288 with 1 Axes>"
            ],
            "image/png": "[encoded data removed]"
          },
          "metadata": {
            "needs_background": "light"
          }
        }
      ]
    },
    {
      "cell_type": "code",
      "source": [
        "print(f'intercept : {model.intercept_}')\n",
        "print(f\"slope : {model.coef_}\")"
      ],
      "metadata": {
        "colab": {
          "base_uri": "https://localhost:8080/"
        },
        "id": "po-_AbbBwPcL",
        "outputId": "bf13df15-855c-40fb-fe0b-4b24b73ddde6"
      },
      "execution_count": 17,
      "outputs": [
        {
          "output_type": "stream",
          "name": "stdout",
          "text": [
            "intercept : -6.821210263296962e-13\n",
            "slope : [1.]\n"
          ]
        }
      ]
    },
    {
      "cell_type": "code",
      "source": [
        "#Prediksi sample data\n",
        "jml_p = np.array([125, 130, 140, 230]).reshape(-1,1)\n",
        "jml_p"
      ],
      "metadata": {
        "colab": {
          "base_uri": "https://localhost:8080/"
        },
        "id": "1ENdFWY3wRrr",
        "outputId": "8b7b3f28-ee01-4986-b4bd-ec8256039e24"
      },
      "execution_count": 29,
      "outputs": [
        {
          "output_type": "execute_result",
          "data": {
            "text/plain": [
              "array([[125],\n",
              "       [130],\n",
              "       [140],\n",
              "       [230]])"
            ]
          },
          "metadata": {},
          "execution_count": 29
        }
      ]
    },
    {
      "cell_type": "code",
      "source": [
        "prediksi_pakta = model.predict(jml_p)\n",
        "prediksi_pakta"
      ],
      "metadata": {
        "colab": {
          "base_uri": "https://localhost:8080/"
        },
        "id": "gHWQ_kcswTnr",
        "outputId": "489285c3-bbc3-4178-dfc1-ddf41a6623e9"
      },
      "execution_count": 30,
      "outputs": [
        {
          "output_type": "execute_result",
          "data": {
            "text/plain": [
              "array([125., 130., 140., 230.])"
            ]
          },
          "metadata": {},
          "execution_count": 30
        }
      ]
    },
    {
      "cell_type": "code",
      "source": [
        "for jml_p, prediksi_pakta in zip(jml_p, prediksi_pakta):\n",
        "  print(f'Jumlah Murid Kelas 1 SD : {jml_p} Prediksi Indeks : {prediksi_pakta}')"
      ],
      "metadata": {
        "colab": {
          "base_uri": "https://localhost:8080/"
        },
        "id": "1Z5dCMwDwUdz",
        "outputId": "83edfe36-fbd4-457e-f33a-12c6af69ee71"
      },
      "execution_count": 31,
      "outputs": [
        {
          "output_type": "stream",
          "name": "stdout",
          "text": [
            "Jumlah Murid Kelas 1 SD : [125] Prediksi Indeks : 124.99999999999937\n",
            "Jumlah Murid Kelas 1 SD : [130] Prediksi Indeks : 129.99999999999937\n",
            "Jumlah Murid Kelas 1 SD : [140] Prediksi Indeks : 139.99999999999937\n",
            "Jumlah Murid Kelas 1 SD : [230] Prediksi Indeks : 229.99999999999943\n"
          ]
        }
      ]
    },
    {
      "cell_type": "code",
      "source": [
        "print(\"Jumlah Murid Kelas 1 SD: \")\n",
        "df['Jumlah Murid Kelas 1 SD'].sum()"
      ],
      "metadata": {
        "colab": {
          "base_uri": "https://localhost:8080/"
        },
        "id": "NNKD2Ze0wWLr",
        "outputId": "4d521344-05a4-44d6-b53d-69cd4b9bb02f"
      },
      "execution_count": 32,
      "outputs": [
        {
          "output_type": "stream",
          "name": "stdout",
          "text": [
            "Jumlah Murid Kelas 1 SD: \n"
          ]
        },
        {
          "output_type": "execute_result",
          "data": {
            "text/plain": [
              "43868"
            ]
          },
          "metadata": {},
          "execution_count": 32
        }
      ]
    },
    {
      "cell_type": "code",
      "source": [
        "print(\"Jumlah Murid Kelas 1 SD Mendapat Pelayanan Kesehatan: \")\n",
        "df['Jumlah Murid Kelas 1 SD Mendapat Pelayanan'].sum()"
      ],
      "metadata": {
        "colab": {
          "base_uri": "https://localhost:8080/"
        },
        "id": "g_TYK_vYwnzc",
        "outputId": "70dd62c8-eb58-4211-d664-99a35d886ac7"
      },
      "execution_count": 33,
      "outputs": [
        {
          "output_type": "stream",
          "name": "stdout",
          "text": [
            "Jumlah Murid Kelas 1 SD Mendapat Pelayanan Kesehatan: \n"
          ]
        },
        {
          "output_type": "execute_result",
          "data": {
            "text/plain": [
              "43868"
            ]
          },
          "metadata": {},
          "execution_count": 33
        }
      ]
    },
    {
      "cell_type": "code",
      "source": [
        "print(\"\")\n",
        "fig = plt.figure()\n",
        "ax = fig.add_axes([0,0,1,1])\n",
        "L = ['Jumlah Murid Kelas 1 SD',' Mendapat Pelayanan']\n",
        "jumlah = [43868,43868]\n",
        "plt.title(\"Garik Bar\")\n",
        "ax.bar(L,jumlah )\n",
        "plt.show()\n",
        "\n",
        "#Pie chart\n",
        "print(\"\")\n",
        "fig = plt.figure()\n",
        "ax = fig.add_axes([0,0,1,1])\n",
        "ax.axis('equal')\n",
        "L = ['Jumlah Murid Kelas 1 SD',' Mendapat Pelayanan']\n",
        "jumlah = [43868,43868]\n",
        "ax.pie(jumlah,labels=L,autopct=\"%1.2f%%\")\n",
        "plt.title(\"Garik Chart\")\n",
        "plt.show()"
      ],
      "metadata": {
        "colab": {
          "base_uri": "https://localhost:8080/",
          "height": 707
        },
        "id": "xz9DxTdcw-XT",
        "outputId": "6a9d8b7e-17af-4c48-b4f6-c177b4fc18ec"
      },
      "execution_count": 35,
      "outputs": [
        {
          "output_type": "stream",
          "name": "stdout",
          "text": [
            "\n"
          ]
        },
        {
          "output_type": "display_data",
          "data": {
            "text/plain": [
              "<Figure size 432x288 with 1 Axes>"
            ],
            "image/png": "[encoded data removed]"
          },
          "metadata": {
            "needs_background": "light"
          }
        },
        {
          "output_type": "stream",
          "name": "stdout",
          "text": [
            "\n"
          ]
        },
        {
          "output_type": "display_data",
          "data": {
            "text/plain": [
              "<Figure size 432x288 with 1 Axes>"
            ],
            "image/png": "[encoded data removed]"
          },
          "metadata": {}
        }
      ]
    }
  ]
}