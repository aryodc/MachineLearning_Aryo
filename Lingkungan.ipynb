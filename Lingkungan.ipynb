{
  "nbformat": 4,
  "nbformat_minor": 0,
  "metadata": {
    "colab": {
      "provenance": []
    },
    "kernelspec": {
      "name": "python3",
      "display_name": "Python 3"
    },
    "language_info": {
      "name": "python"
    }
  },
  "cells": [
    {
      "cell_type": "code",
      "execution_count": 10,
      "metadata": {
        "colab": {
          "base_uri": "https://localhost:8080/"
        },
        "id": "7lL3gb8H2FTs",
        "outputId": "baca8a2b-a9e7-42de-d465-a826867daa3a"
      },
      "outputs": [
        {
          "output_type": "stream",
          "name": "stdout",
          "text": [
            "Drive already mounted at /content/drive; to attempt to forcibly remount, call drive.mount(\"/content/drive\", force_remount=True).\n"
          ]
        }
      ],
      "source": [
        "import pandas as pd\n",
        "from google.colab import drive #memanggil package  \n",
        "drive.mount('/content/drive')  "
      ]
    },
    {
      "cell_type": "code",
      "source": [
        "path = '/content/drive/MyDrive/CSV/lingkungan - Sheet1.csv'\n",
        "df = pd.read_csv(path)\n",
        "df.describe()"
      ],
      "metadata": {
        "colab": {
          "base_uri": "https://localhost:8080/",
          "height": 300
        },
        "id": "7ApznL4t2gJJ",
        "outputId": "8d4ad1e1-8a89-403e-8b91-a65bb353ff7a"
      },
      "execution_count": 11,
      "outputs": [
        {
          "output_type": "execute_result",
          "data": {
            "text/plain": [
              "             pm10        so2         co          o3        no2         max\n",
              "count   28.000000  28.000000  28.000000   28.000000  28.000000   28.000000\n",
              "mean    72.035714  51.714286  30.500000  104.714286  15.571429  104.785714\n",
              "std     11.272655   1.718249   6.887993   27.605497   3.573862   27.522862\n",
              "min     56.000000  44.000000  19.000000   72.000000  10.000000   72.000000\n",
              "25%     65.000000  51.000000  26.000000   78.750000  12.000000   78.750000\n",
              "50%     68.500000  52.000000  29.000000   97.500000  15.500000   97.500000\n",
              "75%     77.250000  52.000000  35.250000  123.750000  18.000000  123.750000\n",
              "max    103.000000  54.000000  52.000000  161.000000  23.000000  161.000000"
            ],
            "text/html": [
              "\n",
              "  <div id=\"df-c4eb8134-2bb8-4601-90fa-7e950b2ef659\">\n",
              "    <div class=\"colab-df-container\">\n",
              "      <div>\n",
              "<style scoped>\n",
              "    .dataframe tbody tr th:only-of-type {\n",
              "        vertical-align: middle;\n",
              "    }\n",
              "\n",
              "    .dataframe tbody tr th {\n",
              "        vertical-align: top;\n",
              "    }\n",
              "\n",
              "    .dataframe thead th {\n",
              "        text-align: right;\n",
              "    }\n",
              "</style>\n",
              "<table border=\"1\" class=\"dataframe\">\n",
              "  <thead>\n",
              "    <tr style=\"text-align: right;\">\n",
              "      <th></th>\n",
              "      <th>pm10</th>\n",
              "      <th>so2</th>\n",
              "      <th>co</th>\n",
              "      <th>o3</th>\n",
              "      <th>no2</th>\n",
              "      <th>max</th>\n",
              "    </tr>\n",
              "  </thead>\n",
              "  <tbody>\n",
              "    <tr>\n",
              "      <th>count</th>\n",
              "      <td>28.000000</td>\n",
              "      <td>28.000000</td>\n",
              "      <td>28.000000</td>\n",
              "      <td>28.000000</td>\n",
              "      <td>28.000000</td>\n",
              "      <td>28.000000</td>\n",
              "    </tr>\n",
              "    <tr>\n",
              "      <th>mean</th>\n",
              "      <td>72.035714</td>\n",
              "      <td>51.714286</td>\n",
              "      <td>30.500000</td>\n",
              "      <td>104.714286</td>\n",
              "      <td>15.571429</td>\n",
              "      <td>104.785714</td>\n",
              "    </tr>\n",
              "    <tr>\n",
              "      <th>std</th>\n",
              "      <td>11.272655</td>\n",
              "      <td>1.718249</td>\n",
              "      <td>6.887993</td>\n",
              "      <td>27.605497</td>\n",
              "      <td>3.573862</td>\n",
              "      <td>27.522862</td>\n",
              "    </tr>\n",
              "    <tr>\n",
              "      <th>min</th>\n",
              "      <td>56.000000</td>\n",
              "      <td>44.000000</td>\n",
              "      <td>19.000000</td>\n",
              "      <td>72.000000</td>\n",
              "      <td>10.000000</td>\n",
              "      <td>72.000000</td>\n",
              "    </tr>\n",
              "    <tr>\n",
              "      <th>25%</th>\n",
              "      <td>65.000000</td>\n",
              "      <td>51.000000</td>\n",
              "      <td>26.000000</td>\n",
              "      <td>78.750000</td>\n",
              "      <td>12.000000</td>\n",
              "      <td>78.750000</td>\n",
              "    </tr>\n",
              "    <tr>\n",
              "      <th>50%</th>\n",
              "      <td>68.500000</td>\n",
              "      <td>52.000000</td>\n",
              "      <td>29.000000</td>\n",
              "      <td>97.500000</td>\n",
              "      <td>15.500000</td>\n",
              "      <td>97.500000</td>\n",
              "    </tr>\n",
              "    <tr>\n",
              "      <th>75%</th>\n",
              "      <td>77.250000</td>\n",
              "      <td>52.000000</td>\n",
              "      <td>35.250000</td>\n",
              "      <td>123.750000</td>\n",
              "      <td>18.000000</td>\n",
              "      <td>123.750000</td>\n",
              "    </tr>\n",
              "    <tr>\n",
              "      <th>max</th>\n",
              "      <td>103.000000</td>\n",
              "      <td>54.000000</td>\n",
              "      <td>52.000000</td>\n",
              "      <td>161.000000</td>\n",
              "      <td>23.000000</td>\n",
              "      <td>161.000000</td>\n",
              "    </tr>\n",
              "  </tbody>\n",
              "</table>\n",
              "</div>\n",
              "      <button class=\"colab-df-convert\" onclick=\"convertToInteractive('df-c4eb8134-2bb8-4601-90fa-7e950b2ef659')\"\n",
              "              title=\"Convert this dataframe to an interactive table.\"\n",
              "              style=\"display:none;\">\n",
              "        \n",
              "  <svg xmlns=\"http://www.w3.org/2000/svg\" height=\"24px\"viewBox=\"0 0 24 24\"\n",
              "       width=\"24px\">\n",
              "    <path d=\"M0 0h24v24H0V0z\" fill=\"none\"/>\n",
              "    <path d=\"M18.56 5.44l.94 2.06.94-2.06 2.06-.94-2.06-.94-.94-2.06-.94 2.06-2.06.94zm-11 1L8.5 8.5l.94-2.06 2.06-.94-2.06-.94L8.5 2.5l-.94 2.06-2.06.94zm10 10l.94 2.06.94-2.06 2.06-.94-2.06-.94-.94-2.06-.94 2.06-2.06.94z\"/><path d=\"M17.41 7.96l-1.37-1.37c-.4-.4-.92-.59-1.43-.59-.52 0-1.04.2-1.43.59L10.3 9.45l-7.72 7.72c-.78.78-.78 2.05 0 2.83L4 21.41c.39.39.9.59 1.41.59.51 0 1.02-.2 1.41-.59l7.78-7.78 2.81-2.81c.8-.78.8-2.07 0-2.86zM5.41 20L4 18.59l7.72-7.72 1.47 1.35L5.41 20z\"/>\n",
              "  </svg>\n",
              "      </button>\n",
              "      \n",
              "  <style>\n",
              "    .colab-df-container {\n",
              "      display:flex;\n",
              "      flex-wrap:wrap;\n",
              "      gap: 12px;\n",
              "    }\n",
              "\n",
              "    .colab-df-convert {\n",
              "      background-color: #E8F0FE;\n",
              "      border: none;\n",
              "      border-radius: 50%;\n",
              "      cursor: pointer;\n",
              "      display: none;\n",
              "      fill: #1967D2;\n",
              "      height: 32px;\n",
              "      padding: 0 0 0 0;\n",
              "      width: 32px;\n",
              "    }\n",
              "\n",
              "    .colab-df-convert:hover {\n",
              "      background-color: #E2EBFA;\n",
              "      box-shadow: 0px 1px 2px rgba(60, 64, 67, 0.3), 0px 1px 3px 1px rgba(60, 64, 67, 0.15);\n",
              "      fill: #174EA6;\n",
              "    }\n",
              "\n",
              "    [theme=dark] .colab-df-convert {\n",
              "      background-color: #3B4455;\n",
              "      fill: #D2E3FC;\n",
              "    }\n",
              "\n",
              "    [theme=dark] .colab-df-convert:hover {\n",
              "      background-color: #434B5C;\n",
              "      box-shadow: 0px 1px 3px 1px rgba(0, 0, 0, 0.15);\n",
              "      filter: drop-shadow(0px 1px 2px rgba(0, 0, 0, 0.3));\n",
              "      fill: #FFFFFF;\n",
              "    }\n",
              "  </style>\n",
              "\n",
              "      <script>\n",
              "        const buttonEl =\n",
              "          document.querySelector('#df-c4eb8134-2bb8-4601-90fa-7e950b2ef659 button.colab-df-convert');\n",
              "        buttonEl.style.display =\n",
              "          google.colab.kernel.accessAllowed ? 'block' : 'none';\n",
              "\n",
              "        async function convertToInteractive(key) {\n",
              "          const element = document.querySelector('#df-c4eb8134-2bb8-4601-90fa-7e950b2ef659');\n",
              "          const dataTable =\n",
              "            await google.colab.kernel.invokeFunction('convertToInteractive',\n",
              "                                                     [key], {});\n",
              "          if (!dataTable) return;\n",
              "\n",
              "          const docLinkHtml = 'Like what you see? Visit the ' +\n",
              "            '<a target=\"_blank\" href=https://colab.research.google.com/notebooks/data_table.ipynb>data table notebook</a>'\n",
              "            + ' to learn more about interactive tables.';\n",
              "          element.innerHTML = '';\n",
              "          dataTable['output_type'] = 'display_data';\n",
              "          await google.colab.output.renderOutput(dataTable, element);\n",
              "          const docLink = document.createElement('div');\n",
              "          docLink.innerHTML = docLinkHtml;\n",
              "          element.appendChild(docLink);\n",
              "        }\n",
              "      </script>\n",
              "    </div>\n",
              "  </div>\n",
              "  "
            ]
          },
          "metadata": {},
          "execution_count": 11
        }
      ]
    },
    {
      "cell_type": "code",
      "source": [
        "df"
      ],
      "metadata": {
        "colab": {
          "base_uri": "https://localhost:8080/",
          "height": 927
        },
        "id": "U_2Pq0o22q6Y",
        "outputId": "c32cb2d3-9c1e-4aaa-a244-1a101144236f"
      },
      "execution_count": 12,
      "outputs": [
        {
          "output_type": "execute_result",
          "data": {
            "text/plain": [
              "       tanggal  pm10  so2  co   o3  no2  max critical     categori lokasi_spku\n",
              "0   2017-09-01    64   51  27   76   10   76       O3       SEDANG        DKI3\n",
              "1   2017-09-02    78   51  29   92   12   92       O3       SEDANG        DKI3\n",
              "2   2017-09-04   103   52  35  157   15  157       O3  TIDAK SEHAT        DKI3\n",
              "3   2017-09-05    65   52  19   92   12   92       O3       SEDANG        DKI2\n",
              "4   2017-09-06    66   51  39   88   19   88       O3       SEDANG        DKI3\n",
              "5   2017-09-07    68   51  37   74   16   74       O3       SEDANG        DKI3\n",
              "6   2017-09-08    78   52  26   79   15   79       O3       SEDANG        DKI3\n",
              "7   2017-09-09    72   52  34   96   13   96       O3       SEDANG        DKI3\n",
              "8   2017-09-10    59   52  27   99   12   99       O3       SEDANG        DKI2\n",
              "9   2017-09-11    65   51  29   95   18   95       O3       SEDANG        DKI1\n",
              "10  2017-09-12    91   52  37  107   20  107       O3  TIDAK SEHAT        DKI3\n",
              "11  2017-09-13    71   53  30  145   21  145       O3  TIDAK SEHAT        DKI2\n",
              "12  2017-09-14    89   53  36  140   17  140       O3  TIDAK SEHAT        DKI3\n",
              "13  2017-09-15    93   52  31  144   23  144       O3  TIDAK SEHAT        DKI3\n",
              "14  2017-09-16    75   52  24   73   12   75     PM10       SEDANG        DKI4\n",
              "15  2017-09-17    60   52  26   78   13   78       O3       SEDANG        DKI1\n",
              "16  2017-09-18    66   52  25   72   11   72       O3       SEDANG        DKI3\n",
              "17  2017-09-19    67   52  22   88   10   88       O3       SEDANG        DKI3\n",
              "18  2017-09-20    58   52  28  121   15  121       O3  TIDAK SEHAT        DKI3\n",
              "19  2017-09-21    77   54  25  100   21  100       O3       SEDANG        DKI3\n",
              "20  2017-09-22    68   52  26  161   12  161       O3  TIDAK SEHAT        DKI3\n",
              "21  2017-09-23    81   53  31  137   19  137       O3  TIDAK SEHAT        DKI1\n",
              "22  2017-09-24    73   54  26  103   16  103       O3  TIDAK SEHAT        DKI2\n",
              "23  2017-09-25    68   52  25  109   18  109       O3  TIDAK SEHAT        DKI3\n",
              "24  2017-09-26    75   51  30   77   17   77       O3       SEDANG        DKI3\n",
              "25  2017-09-28    62   51  52  121   18  121       O3  TIDAK SEHAT        DKI2\n",
              "26  2017-09-29    69   44  39  132   14  132       O3  TIDAK SEHAT        DKI3\n",
              "27  2017-09-30    56   52  39   76   17   76       O3       SEDANG        DKI3"
            ],
            "text/html": [
              "\n",
              "  <div id=\"df-f0b2bdc9-b142-40fa-8b85-0023211d441c\">\n",
              "    <div class=\"colab-df-container\">\n",
              "      <div>\n",
              "<style scoped>\n",
              "    .dataframe tbody tr th:only-of-type {\n",
              "        vertical-align: middle;\n",
              "    }\n",
              "\n",
              "    .dataframe tbody tr th {\n",
              "        vertical-align: top;\n",
              "    }\n",
              "\n",
              "    .dataframe thead th {\n",
              "        text-align: right;\n",
              "    }\n",
              "</style>\n",
              "<table border=\"1\" class=\"dataframe\">\n",
              "  <thead>\n",
              "    <tr style=\"text-align: right;\">\n",
              "      <th></th>\n",
              "      <th>tanggal</th>\n",
              "      <th>pm10</th>\n",
              "      <th>so2</th>\n",
              "      <th>co</th>\n",
              "      <th>o3</th>\n",
              "      <th>no2</th>\n",
              "      <th>max</th>\n",
              "      <th>critical</th>\n",
              "      <th>categori</th>\n",
              "      <th>lokasi_spku</th>\n",
              "    </tr>\n",
              "  </thead>\n",
              "  <tbody>\n",
              "    <tr>\n",
              "      <th>0</th>\n",
              "      <td>2017-09-01</td>\n",
              "      <td>64</td>\n",
              "      <td>51</td>\n",
              "      <td>27</td>\n",
              "      <td>76</td>\n",
              "      <td>10</td>\n",
              "      <td>76</td>\n",
              "      <td>O3</td>\n",
              "      <td>SEDANG</td>\n",
              "      <td>DKI3</td>\n",
              "    </tr>\n",
              "    <tr>\n",
              "      <th>1</th>\n",
              "      <td>2017-09-02</td>\n",
              "      <td>78</td>\n",
              "      <td>51</td>\n",
              "      <td>29</td>\n",
              "      <td>92</td>\n",
              "      <td>12</td>\n",
              "      <td>92</td>\n",
              "      <td>O3</td>\n",
              "      <td>SEDANG</td>\n",
              "      <td>DKI3</td>\n",
              "    </tr>\n",
              "    <tr>\n",
              "      <th>2</th>\n",
              "      <td>2017-09-04</td>\n",
              "      <td>103</td>\n",
              "      <td>52</td>\n",
              "      <td>35</td>\n",
              "      <td>157</td>\n",
              "      <td>15</td>\n",
              "      <td>157</td>\n",
              "      <td>O3</td>\n",
              "      <td>TIDAK SEHAT</td>\n",
              "      <td>DKI3</td>\n",
              "    </tr>\n",
              "    <tr>\n",
              "      <th>3</th>\n",
              "      <td>2017-09-05</td>\n",
              "      <td>65</td>\n",
              "      <td>52</td>\n",
              "      <td>19</td>\n",
              "      <td>92</td>\n",
              "      <td>12</td>\n",
              "      <td>92</td>\n",
              "      <td>O3</td>\n",
              "      <td>SEDANG</td>\n",
              "      <td>DKI2</td>\n",
              "    </tr>\n",
              "    <tr>\n",
              "      <th>4</th>\n",
              "      <td>2017-09-06</td>\n",
              "      <td>66</td>\n",
              "      <td>51</td>\n",
              "      <td>39</td>\n",
              "      <td>88</td>\n",
              "      <td>19</td>\n",
              "      <td>88</td>\n",
              "      <td>O3</td>\n",
              "      <td>SEDANG</td>\n",
              "      <td>DKI3</td>\n",
              "    </tr>\n",
              "    <tr>\n",
              "      <th>5</th>\n",
              "      <td>2017-09-07</td>\n",
              "      <td>68</td>\n",
              "      <td>51</td>\n",
              "      <td>37</td>\n",
              "      <td>74</td>\n",
              "      <td>16</td>\n",
              "      <td>74</td>\n",
              "      <td>O3</td>\n",
              "      <td>SEDANG</td>\n",
              "      <td>DKI3</td>\n",
              "    </tr>\n",
              "    <tr>\n",
              "      <th>6</th>\n",
              "      <td>2017-09-08</td>\n",
              "      <td>78</td>\n",
              "      <td>52</td>\n",
              "      <td>26</td>\n",
              "      <td>79</td>\n",
              "      <td>15</td>\n",
              "      <td>79</td>\n",
              "      <td>O3</td>\n",
              "      <td>SEDANG</td>\n",
              "      <td>DKI3</td>\n",
              "    </tr>\n",
              "    <tr>\n",
              "      <th>7</th>\n",
              "      <td>2017-09-09</td>\n",
              "      <td>72</td>\n",
              "      <td>52</td>\n",
              "      <td>34</td>\n",
              "      <td>96</td>\n",
              "      <td>13</td>\n",
              "      <td>96</td>\n",
              "      <td>O3</td>\n",
              "      <td>SEDANG</td>\n",
              "      <td>DKI3</td>\n",
              "    </tr>\n",
              "    <tr>\n",
              "      <th>8</th>\n",
              "      <td>2017-09-10</td>\n",
              "      <td>59</td>\n",
              "      <td>52</td>\n",
              "      <td>27</td>\n",
              "      <td>99</td>\n",
              "      <td>12</td>\n",
              "      <td>99</td>\n",
              "      <td>O3</td>\n",
              "      <td>SEDANG</td>\n",
              "      <td>DKI2</td>\n",
              "    </tr>\n",
              "    <tr>\n",
              "      <th>9</th>\n",
              "      <td>2017-09-11</td>\n",
              "      <td>65</td>\n",
              "      <td>51</td>\n",
              "      <td>29</td>\n",
              "      <td>95</td>\n",
              "      <td>18</td>\n",
              "      <td>95</td>\n",
              "      <td>O3</td>\n",
              "      <td>SEDANG</td>\n",
              "      <td>DKI1</td>\n",
              "    </tr>\n",
              "    <tr>\n",
              "      <th>10</th>\n",
              "      <td>2017-09-12</td>\n",
              "      <td>91</td>\n",
              "      <td>52</td>\n",
              "      <td>37</td>\n",
              "      <td>107</td>\n",
              "      <td>20</td>\n",
              "      <td>107</td>\n",
              "      <td>O3</td>\n",
              "      <td>TIDAK SEHAT</td>\n",
              "      <td>DKI3</td>\n",
              "    </tr>\n",
              "    <tr>\n",
              "      <th>11</th>\n",
              "      <td>2017-09-13</td>\n",
              "      <td>71</td>\n",
              "      <td>53</td>\n",
              "      <td>30</td>\n",
              "      <td>145</td>\n",
              "      <td>21</td>\n",
              "      <td>145</td>\n",
              "      <td>O3</td>\n",
              "      <td>TIDAK SEHAT</td>\n",
              "      <td>DKI2</td>\n",
              "    </tr>\n",
              "    <tr>\n",
              "      <th>12</th>\n",
              "      <td>2017-09-14</td>\n",
              "      <td>89</td>\n",
              "      <td>53</td>\n",
              "      <td>36</td>\n",
              "      <td>140</td>\n",
              "      <td>17</td>\n",
              "      <td>140</td>\n",
              "      <td>O3</td>\n",
              "      <td>TIDAK SEHAT</td>\n",
              "      <td>DKI3</td>\n",
              "    </tr>\n",
              "    <tr>\n",
              "      <th>13</th>\n",
              "      <td>2017-09-15</td>\n",
              "      <td>93</td>\n",
              "      <td>52</td>\n",
              "      <td>31</td>\n",
              "      <td>144</td>\n",
              "      <td>23</td>\n",
              "      <td>144</td>\n",
              "      <td>O3</td>\n",
              "      <td>TIDAK SEHAT</td>\n",
              "      <td>DKI3</td>\n",
              "    </tr>\n",
              "    <tr>\n",
              "      <th>14</th>\n",
              "      <td>2017-09-16</td>\n",
              "      <td>75</td>\n",
              "      <td>52</td>\n",
              "      <td>24</td>\n",
              "      <td>73</td>\n",
              "      <td>12</td>\n",
              "      <td>75</td>\n",
              "      <td>PM10</td>\n",
              "      <td>SEDANG</td>\n",
              "      <td>DKI4</td>\n",
              "    </tr>\n",
              "    <tr>\n",
              "      <th>15</th>\n",
              "      <td>2017-09-17</td>\n",
              "      <td>60</td>\n",
              "      <td>52</td>\n",
              "      <td>26</td>\n",
              "      <td>78</td>\n",
              "      <td>13</td>\n",
              "      <td>78</td>\n",
              "      <td>O3</td>\n",
              "      <td>SEDANG</td>\n",
              "      <td>DKI1</td>\n",
              "    </tr>\n",
              "    <tr>\n",
              "      <th>16</th>\n",
              "      <td>2017-09-18</td>\n",
              "      <td>66</td>\n",
              "      <td>52</td>\n",
              "      <td>25</td>\n",
              "      <td>72</td>\n",
              "      <td>11</td>\n",
              "      <td>72</td>\n",
              "      <td>O3</td>\n",
              "      <td>SEDANG</td>\n",
              "      <td>DKI3</td>\n",
              "    </tr>\n",
              "    <tr>\n",
              "      <th>17</th>\n",
              "      <td>2017-09-19</td>\n",
              "      <td>67</td>\n",
              "      <td>52</td>\n",
              "      <td>22</td>\n",
              "      <td>88</td>\n",
              "      <td>10</td>\n",
              "      <td>88</td>\n",
              "      <td>O3</td>\n",
              "      <td>SEDANG</td>\n",
              "      <td>DKI3</td>\n",
              "    </tr>\n",
              "    <tr>\n",
              "      <th>18</th>\n",
              "      <td>2017-09-20</td>\n",
              "      <td>58</td>\n",
              "      <td>52</td>\n",
              "      <td>28</td>\n",
              "      <td>121</td>\n",
              "      <td>15</td>\n",
              "      <td>121</td>\n",
              "      <td>O3</td>\n",
              "      <td>TIDAK SEHAT</td>\n",
              "      <td>DKI3</td>\n",
              "    </tr>\n",
              "    <tr>\n",
              "      <th>19</th>\n",
              "      <td>2017-09-21</td>\n",
              "      <td>77</td>\n",
              "      <td>54</td>\n",
              "      <td>25</td>\n",
              "      <td>100</td>\n",
              "      <td>21</td>\n",
              "      <td>100</td>\n",
              "      <td>O3</td>\n",
              "      <td>SEDANG</td>\n",
              "      <td>DKI3</td>\n",
              "    </tr>\n",
              "    <tr>\n",
              "      <th>20</th>\n",
              "      <td>2017-09-22</td>\n",
              "      <td>68</td>\n",
              "      <td>52</td>\n",
              "      <td>26</td>\n",
              "      <td>161</td>\n",
              "      <td>12</td>\n",
              "      <td>161</td>\n",
              "      <td>O3</td>\n",
              "      <td>TIDAK SEHAT</td>\n",
              "      <td>DKI3</td>\n",
              "    </tr>\n",
              "    <tr>\n",
              "      <th>21</th>\n",
              "      <td>2017-09-23</td>\n",
              "      <td>81</td>\n",
              "      <td>53</td>\n",
              "      <td>31</td>\n",
              "      <td>137</td>\n",
              "      <td>19</td>\n",
              "      <td>137</td>\n",
              "      <td>O3</td>\n",
              "      <td>TIDAK SEHAT</td>\n",
              "      <td>DKI1</td>\n",
              "    </tr>\n",
              "    <tr>\n",
              "      <th>22</th>\n",
              "      <td>2017-09-24</td>\n",
              "      <td>73</td>\n",
              "      <td>54</td>\n",
              "      <td>26</td>\n",
              "      <td>103</td>\n",
              "      <td>16</td>\n",
              "      <td>103</td>\n",
              "      <td>O3</td>\n",
              "      <td>TIDAK SEHAT</td>\n",
              "      <td>DKI2</td>\n",
              "    </tr>\n",
              "    <tr>\n",
              "      <th>23</th>\n",
              "      <td>2017-09-25</td>\n",
              "      <td>68</td>\n",
              "      <td>52</td>\n",
              "      <td>25</td>\n",
              "      <td>109</td>\n",
              "      <td>18</td>\n",
              "      <td>109</td>\n",
              "      <td>O3</td>\n",
              "      <td>TIDAK SEHAT</td>\n",
              "      <td>DKI3</td>\n",
              "    </tr>\n",
              "    <tr>\n",
              "      <th>24</th>\n",
              "      <td>2017-09-26</td>\n",
              "      <td>75</td>\n",
              "      <td>51</td>\n",
              "      <td>30</td>\n",
              "      <td>77</td>\n",
              "      <td>17</td>\n",
              "      <td>77</td>\n",
              "      <td>O3</td>\n",
              "      <td>SEDANG</td>\n",
              "      <td>DKI3</td>\n",
              "    </tr>\n",
              "    <tr>\n",
              "      <th>25</th>\n",
              "      <td>2017-09-28</td>\n",
              "      <td>62</td>\n",
              "      <td>51</td>\n",
              "      <td>52</td>\n",
              "      <td>121</td>\n",
              "      <td>18</td>\n",
              "      <td>121</td>\n",
              "      <td>O3</td>\n",
              "      <td>TIDAK SEHAT</td>\n",
              "      <td>DKI2</td>\n",
              "    </tr>\n",
              "    <tr>\n",
              "      <th>26</th>\n",
              "      <td>2017-09-29</td>\n",
              "      <td>69</td>\n",
              "      <td>44</td>\n",
              "      <td>39</td>\n",
              "      <td>132</td>\n",
              "      <td>14</td>\n",
              "      <td>132</td>\n",
              "      <td>O3</td>\n",
              "      <td>TIDAK SEHAT</td>\n",
              "      <td>DKI3</td>\n",
              "    </tr>\n",
              "    <tr>\n",
              "      <th>27</th>\n",
              "      <td>2017-09-30</td>\n",
              "      <td>56</td>\n",
              "      <td>52</td>\n",
              "      <td>39</td>\n",
              "      <td>76</td>\n",
              "      <td>17</td>\n",
              "      <td>76</td>\n",
              "      <td>O3</td>\n",
              "      <td>SEDANG</td>\n",
              "      <td>DKI3</td>\n",
              "    </tr>\n",
              "  </tbody>\n",
              "</table>\n",
              "</div>\n",
              "      <button class=\"colab-df-convert\" onclick=\"convertToInteractive('df-f0b2bdc9-b142-40fa-8b85-0023211d441c')\"\n",
              "              title=\"Convert this dataframe to an interactive table.\"\n",
              "              style=\"display:none;\">\n",
              "        \n",
              "  <svg xmlns=\"http://www.w3.org/2000/svg\" height=\"24px\"viewBox=\"0 0 24 24\"\n",
              "       width=\"24px\">\n",
              "    <path d=\"M0 0h24v24H0V0z\" fill=\"none\"/>\n",
              "    <path d=\"M18.56 5.44l.94 2.06.94-2.06 2.06-.94-2.06-.94-.94-2.06-.94 2.06-2.06.94zm-11 1L8.5 8.5l.94-2.06 2.06-.94-2.06-.94L8.5 2.5l-.94 2.06-2.06.94zm10 10l.94 2.06.94-2.06 2.06-.94-2.06-.94-.94-2.06-.94 2.06-2.06.94z\"/><path d=\"M17.41 7.96l-1.37-1.37c-.4-.4-.92-.59-1.43-.59-.52 0-1.04.2-1.43.59L10.3 9.45l-7.72 7.72c-.78.78-.78 2.05 0 2.83L4 21.41c.39.39.9.59 1.41.59.51 0 1.02-.2 1.41-.59l7.78-7.78 2.81-2.81c.8-.78.8-2.07 0-2.86zM5.41 20L4 18.59l7.72-7.72 1.47 1.35L5.41 20z\"/>\n",
              "  </svg>\n",
              "      </button>\n",
              "      \n",
              "  <style>\n",
              "    .colab-df-container {\n",
              "      display:flex;\n",
              "      flex-wrap:wrap;\n",
              "      gap: 12px;\n",
              "    }\n",
              "\n",
              "    .colab-df-convert {\n",
              "      background-color: #E8F0FE;\n",
              "      border: none;\n",
              "      border-radius: 50%;\n",
              "      cursor: pointer;\n",
              "      display: none;\n",
              "      fill: #1967D2;\n",
              "      height: 32px;\n",
              "      padding: 0 0 0 0;\n",
              "      width: 32px;\n",
              "    }\n",
              "\n",
              "    .colab-df-convert:hover {\n",
              "      background-color: #E2EBFA;\n",
              "      box-shadow: 0px 1px 2px rgba(60, 64, 67, 0.3), 0px 1px 3px 1px rgba(60, 64, 67, 0.15);\n",
              "      fill: #174EA6;\n",
              "    }\n",
              "\n",
              "    [theme=dark] .colab-df-convert {\n",
              "      background-color: #3B4455;\n",
              "      fill: #D2E3FC;\n",
              "    }\n",
              "\n",
              "    [theme=dark] .colab-df-convert:hover {\n",
              "      background-color: #434B5C;\n",
              "      box-shadow: 0px 1px 3px 1px rgba(0, 0, 0, 0.15);\n",
              "      filter: drop-shadow(0px 1px 2px rgba(0, 0, 0, 0.3));\n",
              "      fill: #FFFFFF;\n",
              "    }\n",
              "  </style>\n",
              "\n",
              "      <script>\n",
              "        const buttonEl =\n",
              "          document.querySelector('#df-f0b2bdc9-b142-40fa-8b85-0023211d441c button.colab-df-convert');\n",
              "        buttonEl.style.display =\n",
              "          google.colab.kernel.accessAllowed ? 'block' : 'none';\n",
              "\n",
              "        async function convertToInteractive(key) {\n",
              "          const element = document.querySelector('#df-f0b2bdc9-b142-40fa-8b85-0023211d441c');\n",
              "          const dataTable =\n",
              "            await google.colab.kernel.invokeFunction('convertToInteractive',\n",
              "                                                     [key], {});\n",
              "          if (!dataTable) return;\n",
              "\n",
              "          const docLinkHtml = 'Like what you see? Visit the ' +\n",
              "            '<a target=\"_blank\" href=https://colab.research.google.com/notebooks/data_table.ipynb>data table notebook</a>'\n",
              "            + ' to learn more about interactive tables.';\n",
              "          element.innerHTML = '';\n",
              "          dataTable['output_type'] = 'display_data';\n",
              "          await google.colab.output.renderOutput(dataTable, element);\n",
              "          const docLink = document.createElement('div');\n",
              "          docLink.innerHTML = docLinkHtml;\n",
              "          element.appendChild(docLink);\n",
              "        }\n",
              "      </script>\n",
              "    </div>\n",
              "  </div>\n",
              "  "
            ]
          },
          "metadata": {},
          "execution_count": 12
        }
      ]
    },
    {
      "cell_type": "code",
      "source": [
        "import matplotlib.pyplot as plt\n",
        "\n",
        "df.plot(kind='scatter',x='o3',y='max')\n",
        "\n",
        "plt.title('Data Lingkungan')\n",
        "plt.xlabel('o3')\n",
        "plt.ylabel('max')\n",
        "plt.xlim(0, 170)\n",
        "plt.ylim(0, 170)\n",
        "plt.grid(True)\n",
        "plt.show()"
      ],
      "metadata": {
        "colab": {
          "base_uri": "https://localhost:8080/",
          "height": 295
        },
        "id": "l-tWCOKA2rbo",
        "outputId": "db26204a-4e57-4cb2-94aa-98d1d19f79d4"
      },
      "execution_count": 68,
      "outputs": [
        {
          "output_type": "display_data",
          "data": {
            "text/plain": [
              "<Figure size 432x288 with 1 Axes>"
            ],
            "image/png": "[encoded data removed]"
          },
          "metadata": {
            "needs_background": "light"
          }
        }
      ]
    },
    {
      "cell_type": "code",
      "source": [
        "import numpy as np\n",
        "x = np.array(df['o3'])\n",
        "y = np.array(df['max'])\n",
        "print(f'X : {x}')\n",
        "print(f'Y : {y}')"
      ],
      "metadata": {
        "colab": {
          "base_uri": "https://localhost:8080/"
        },
        "id": "dra-7EISpFJ5",
        "outputId": "af8639e2-aea9-46f7-ece7-4a6e35125327"
      },
      "execution_count": 67,
      "outputs": [
        {
          "output_type": "stream",
          "name": "stdout",
          "text": [
            "X : [ 76  92 157  92  88  74  79  96  99  95 107 145 140 144  73  78  72  88\n",
            " 121 100 161 137 103 109  77 121 132  76]\n",
            "Y : [ 76  92 157  92  88  74  79  96  99  95 107 145 140 144  75  78  72  88\n",
            " 121 100 161 137 103 109  77 121 132  76]\n"
          ]
        }
      ]
    },
    {
      "cell_type": "code",
      "source": [
        "x = x.reshape(-1, 1)\n",
        "x.shape"
      ],
      "metadata": {
        "colab": {
          "base_uri": "https://localhost:8080/"
        },
        "id": "tYqtpAHvpQgL",
        "outputId": "8f66b4db-1a59-4def-f46c-6bd7200bd693"
      },
      "execution_count": 66,
      "outputs": [
        {
          "output_type": "execute_result",
          "data": {
            "text/plain": [
              "(28, 1)"
            ]
          },
          "metadata": {},
          "execution_count": 66
        }
      ]
    },
    {
      "cell_type": "code",
      "source": [
        "x"
      ],
      "metadata": {
        "colab": {
          "base_uri": "https://localhost:8080/"
        },
        "id": "IHp1gs0HpUkx",
        "outputId": "f838ca47-1bdc-4b92-9249-65b9b1cb2e61"
      },
      "execution_count": 65,
      "outputs": [
        {
          "output_type": "execute_result",
          "data": {
            "text/plain": [
              "array([[ 76],\n",
              "       [ 92],\n",
              "       [157],\n",
              "       [ 92],\n",
              "       [ 88],\n",
              "       [ 74],\n",
              "       [ 79],\n",
              "       [ 96],\n",
              "       [ 99],\n",
              "       [ 95],\n",
              "       [107],\n",
              "       [145],\n",
              "       [140],\n",
              "       [144],\n",
              "       [ 73],\n",
              "       [ 78],\n",
              "       [ 72],\n",
              "       [ 88],\n",
              "       [121],\n",
              "       [100],\n",
              "       [161],\n",
              "       [137],\n",
              "       [103],\n",
              "       [109],\n",
              "       [ 77],\n",
              "       [121],\n",
              "       [132],\n",
              "       [ 76]])"
            ]
          },
          "metadata": {},
          "execution_count": 65
        }
      ]
    },
    {
      "cell_type": "code",
      "source": [
        "from sklearn.linear_model import LinearRegression\n",
        "\n",
        "model = LinearRegression()\n",
        "model.fit(x,y)"
      ],
      "metadata": {
        "colab": {
          "base_uri": "https://localhost:8080/"
        },
        "id": "tZx0FOTCpVKi",
        "outputId": "857096dc-8f45-4141-f3f6-2881317c985b"
      },
      "execution_count": 64,
      "outputs": [
        {
          "output_type": "execute_result",
          "data": {
            "text/plain": [
              "LinearRegression()"
            ]
          },
          "metadata": {},
          "execution_count": 64
        }
      ]
    },
    {
      "cell_type": "code",
      "source": [
        "x_vis = np.array([0, 170]).reshape(-1,1) #Pembuatan Garis Merah\n",
        "y_vis = model.predict(x_vis) #Model machine learning"
      ],
      "metadata": {
        "id": "2da7EPM2paVa"
      },
      "execution_count": 25,
      "outputs": []
    },
    {
      "cell_type": "code",
      "source": [
        "plt.scatter(x,y)\n",
        "plt.plot(x_vis, y_vis, '-r')\n",
        "plt.title('Data Lingkungan')\n",
        "plt.xlabel('o3')\n",
        "plt.ylabel('max')\n",
        "plt.xlim(0, 170)\n",
        "plt.ylim(0, 170)\n",
        "plt.grid(True)\n",
        "plt.show()"
      ],
      "metadata": {
        "colab": {
          "base_uri": "https://localhost:8080/",
          "height": 295
        },
        "id": "9M08viUrpeW5",
        "outputId": "6d73b9e5-f753-4408-e138-bd2b93e37d45"
      },
      "execution_count": 63,
      "outputs": [
        {
          "output_type": "display_data",
          "data": {
            "text/plain": [
              "<Figure size 432x288 with 1 Axes>"
            ],
            "image/png": "[encoded data removed]"
          },
          "metadata": {
            "needs_background": "light"
          }
        }
      ]
    },
    {
      "cell_type": "code",
      "source": [
        "print(f'intercept : {model.intercept_}')\n",
        "print(f\"slope : {model.coef_}\")"
      ],
      "metadata": {
        "colab": {
          "base_uri": "https://localhost:8080/"
        },
        "id": "cQWQ4Ufkppy5",
        "outputId": "ff737577-fbdc-4564-b635-a15278631571"
      },
      "execution_count": 38,
      "outputs": [
        {
          "output_type": "stream",
          "name": "stdout",
          "text": [
            "intercept : 0.3942303686731634\n",
            "slope : [0.99691731]\n"
          ]
        }
      ]
    },
    {
      "cell_type": "code",
      "source": [
        "#Prediksi sample data\n",
        "jml_p = np.array([125, 130, 140, 230]).reshape(-1,1)\n",
        "jml_p"
      ],
      "metadata": {
        "colab": {
          "base_uri": "https://localhost:8080/"
        },
        "id": "L9fMQikppskp",
        "outputId": "ae7a469c-4c65-400d-f811-e23211f5873d"
      },
      "execution_count": 58,
      "outputs": [
        {
          "output_type": "execute_result",
          "data": {
            "text/plain": [
              "array([[125],\n",
              "       [130],\n",
              "       [140],\n",
              "       [230]])"
            ]
          },
          "metadata": {},
          "execution_count": 58
        }
      ]
    },
    {
      "cell_type": "code",
      "source": [
        "prediksi_pakta = model.predict(jml_p)\n",
        "prediksi_pakta"
      ],
      "metadata": {
        "colab": {
          "base_uri": "https://localhost:8080/"
        },
        "id": "5MkhPsDHpx0B",
        "outputId": "d4da16a4-853e-42d9-b475-4ccd05f3cad2"
      },
      "execution_count": 59,
      "outputs": [
        {
          "output_type": "execute_result",
          "data": {
            "text/plain": [
              "array([125.00889398, 129.99348052, 139.96265361, 229.68521141])"
            ]
          },
          "metadata": {},
          "execution_count": 59
        }
      ]
    },
    {
      "cell_type": "code",
      "source": [
        "for jml_p, prediksi_pakta in zip(jml_p, prediksi_pakta):\n",
        "  print(f'Prediksi Kebersihan : {jml_p} Prediksi Indeks : {prediksi_pakta}')"
      ],
      "metadata": {
        "colab": {
          "base_uri": "https://localhost:8080/"
        },
        "id": "uVYZZrJ0p065",
        "outputId": "041e4c53-dd49-46ab-8bdf-1b30e65ceb71"
      },
      "execution_count": 60,
      "outputs": [
        {
          "output_type": "stream",
          "name": "stdout",
          "text": [
            "Prediksi Kebersihan : [125] Prediksi Indeks : 125.00889398042077\n",
            "Prediksi Kebersihan : [130] Prediksi Indeks : 129.99348052489066\n",
            "Prediksi Kebersihan : [140] Prediksi Indeks : 139.96265361383047\n",
            "Prediksi Kebersihan : [230] Prediksi Indeks : 229.68521141428874\n"
          ]
        }
      ]
    },
    {
      "cell_type": "code",
      "source": [
        "print(\"Jumlah pm10: \")\n",
        "df['pm10'].sum()"
      ],
      "metadata": {
        "colab": {
          "base_uri": "https://localhost:8080/"
        },
        "id": "cdr8O6a6qAM6",
        "outputId": "467a303e-245c-4cc9-b19a-8ce631358c4d"
      },
      "execution_count": 61,
      "outputs": [
        {
          "output_type": "stream",
          "name": "stdout",
          "text": [
            "Jumlah pm10: \n"
          ]
        },
        {
          "output_type": "execute_result",
          "data": {
            "text/plain": [
              "2017"
            ]
          },
          "metadata": {},
          "execution_count": 61
        }
      ]
    },
    {
      "cell_type": "code",
      "source": [
        "print(\"Jumlah so2: \")\n",
        "df['so2'].sum()"
      ],
      "metadata": {
        "colab": {
          "base_uri": "https://localhost:8080/"
        },
        "id": "PR2RSPuuqjXZ",
        "outputId": "f0f11422-a408-4173-dec7-f5ffac6e5f6f"
      },
      "execution_count": 46,
      "outputs": [
        {
          "output_type": "stream",
          "name": "stdout",
          "text": [
            "Jumlah so2: \n"
          ]
        },
        {
          "output_type": "execute_result",
          "data": {
            "text/plain": [
              "1448"
            ]
          },
          "metadata": {},
          "execution_count": 46
        }
      ]
    },
    {
      "cell_type": "code",
      "source": [
        "print(\"Jumlah o3: \")\n",
        "df['o3'].sum()"
      ],
      "metadata": {
        "colab": {
          "base_uri": "https://localhost:8080/"
        },
        "id": "wc2kRfHnqsOa",
        "outputId": "f36aef71-77fc-4d93-e9eb-d1c1bda2da3b"
      },
      "execution_count": 48,
      "outputs": [
        {
          "output_type": "stream",
          "name": "stdout",
          "text": [
            "Jumlah o3: \n"
          ]
        },
        {
          "output_type": "execute_result",
          "data": {
            "text/plain": [
              "2932"
            ]
          },
          "metadata": {},
          "execution_count": 48
        }
      ]
    },
    {
      "cell_type": "code",
      "source": [
        "print(\"Jumlah co: \")\n",
        "df['co'].sum()"
      ],
      "metadata": {
        "colab": {
          "base_uri": "https://localhost:8080/"
        },
        "id": "L4urPkY4q5tK",
        "outputId": "91f7df57-44f9-4c9a-9c13-a214d69d1152"
      },
      "execution_count": 50,
      "outputs": [
        {
          "output_type": "stream",
          "name": "stdout",
          "text": [
            "Jumlah co: \n"
          ]
        },
        {
          "output_type": "execute_result",
          "data": {
            "text/plain": [
              "854"
            ]
          },
          "metadata": {},
          "execution_count": 50
        }
      ]
    },
    {
      "cell_type": "code",
      "source": [
        "print(\"Jumlah no2: \")\n",
        "df['no2'].sum()"
      ],
      "metadata": {
        "colab": {
          "base_uri": "https://localhost:8080/"
        },
        "id": "H4WhOPsFrCmq",
        "outputId": "ebeff413-84d4-471e-f95e-3160e3761ee4"
      },
      "execution_count": 52,
      "outputs": [
        {
          "output_type": "stream",
          "name": "stdout",
          "text": [
            "Jumlah no2: \n"
          ]
        },
        {
          "output_type": "execute_result",
          "data": {
            "text/plain": [
              "436"
            ]
          },
          "metadata": {},
          "execution_count": 52
        }
      ]
    },
    {
      "cell_type": "code",
      "source": [
        "print(\"Jumlah max: \")\n",
        "df['max'].sum()"
      ],
      "metadata": {
        "colab": {
          "base_uri": "https://localhost:8080/"
        },
        "id": "_iGAJpILrNQS",
        "outputId": "fcd5797b-371f-4994-82a5-0cd51b13e8ea"
      },
      "execution_count": 54,
      "outputs": [
        {
          "output_type": "stream",
          "name": "stdout",
          "text": [
            "Jumlah max: \n"
          ]
        },
        {
          "output_type": "execute_result",
          "data": {
            "text/plain": [
              "2934"
            ]
          },
          "metadata": {},
          "execution_count": 54
        }
      ]
    },
    {
      "cell_type": "code",
      "source": [
        "print(\"\")\n",
        "fig = plt.figure()\n",
        "ax = fig.add_axes([0,0,1,1])\n",
        "L = ['pm10','so2','03','co','no2','max']\n",
        "jumlah = [2017,1448,2932,854,436,2934]\n",
        "plt.title(\"Garik Bar Lingkungan \")\n",
        "ax.bar(L,jumlah )\n",
        "plt.show()\n",
        "\n",
        "#Pie chart\n",
        "print(\"\")\n",
        "fig = plt.figure()\n",
        "ax = fig.add_axes([0,0,1,1])\n",
        "ax.axis('equal')\n",
        "L = ['pm10','so2','o3','co','no2','max']\n",
        "jumlah = [2017,1448,2932,854,436,2934]\n",
        "ax.pie(jumlah,labels=L,autopct=\"%1.2f%%\")\n",
        "plt.title(\"Garik chart Lingkungan\")\n",
        "plt.show()"
      ],
      "metadata": {
        "colab": {
          "base_uri": "https://localhost:8080/",
          "height": 707
        },
        "id": "0scxV7pJrlcz",
        "outputId": "5a7d6dc6-7554-4eb2-b624-437ac1c6c0c4"
      },
      "execution_count": 62,
      "outputs": [
        {
          "output_type": "stream",
          "name": "stdout",
          "text": [
            "\n"
          ]
        },
        {
          "output_type": "display_data",
          "data": {
            "text/plain": [
              "<Figure size 432x288 with 1 Axes>"
            ],
            "image/png": "[encoded data removed]"
          },
          "metadata": {
            "needs_background": "light"
          }
        },
        {
          "output_type": "stream",
          "name": "stdout",
          "text": [
            "\n"
          ]
        },
        {
          "output_type": "display_data",
          "data": {
            "text/plain": [
              "<Figure size 432x288 with 1 Axes>"
            ],
            "image/png": "[encoded data removed]"
          },
          "metadata": {}
        }
      ]
    }
  ]
}