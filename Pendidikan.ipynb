{
  "nbformat": 4,
  "nbformat_minor": 0,
  "metadata": {
    "colab": {
      "provenance": []
    },
    "kernelspec": {
      "name": "python3",
      "display_name": "Python 3"
    },
    "language_info": {
      "name": "python"
    }
  },
  "cells": [
    {
      "cell_type": "code",
      "execution_count": 26,
      "metadata": {
        "colab": {
          "base_uri": "https://localhost:8080/"
        },
        "id": "BH2aKo54yKgH",
        "outputId": "0512770c-228e-4697-f4c3-48bb986bb2b3"
      },
      "outputs": [
        {
          "output_type": "stream",
          "name": "stdout",
          "text": [
            "Drive already mounted at /content/drive; to attempt to forcibly remount, call drive.mount(\"/content/drive\", force_remount=True).\n"
          ]
        }
      ],
      "source": [
        "import pandas as pd\n",
        "from google.colab import drive #memanggil package  \n",
        "drive.mount('/content/drive')"
      ]
    },
    {
      "cell_type": "code",
      "source": [
        "path = '/content/drive/MyDrive/CSV/pendidikan - Sheet1.csv'\n",
        "df = pd.read_csv(path)\n",
        "df.describe()"
      ],
      "metadata": {
        "colab": {
          "base_uri": "https://localhost:8080/",
          "height": 300
        },
        "id": "_oAdpADK48qn",
        "outputId": "67485397-537c-4df9-8f66-07d1c0ccd276"
      },
      "execution_count": 28,
      "outputs": [
        {
          "output_type": "execute_result",
          "data": {
            "text/plain": [
              "       Kelas I Laki-laki  Kelas I Perempuan\n",
              "count          33.000000          33.000000\n",
              "mean           27.515152          25.151515\n",
              "std            19.426337          19.077345\n",
              "min             6.000000           4.000000\n",
              "25%            12.000000          12.000000\n",
              "50%            22.000000          21.000000\n",
              "75%            35.000000          33.000000\n",
              "max            76.000000          79.000000"
            ],
            "text/html": [
              "\n",
              "  <div id=\"df-d0e67768-874b-485c-85d5-52ea4b2febfd\">\n",
              "    <div class=\"colab-df-container\">\n",
              "      <div>\n",
              "<style scoped>\n",
              "    .dataframe tbody tr th:only-of-type {\n",
              "        vertical-align: middle;\n",
              "    }\n",
              "\n",
              "    .dataframe tbody tr th {\n",
              "        vertical-align: top;\n",
              "    }\n",
              "\n",
              "    .dataframe thead th {\n",
              "        text-align: right;\n",
              "    }\n",
              "</style>\n",
              "<table border=\"1\" class=\"dataframe\">\n",
              "  <thead>\n",
              "    <tr style=\"text-align: right;\">\n",
              "      <th></th>\n",
              "      <th>Kelas I Laki-laki</th>\n",
              "      <th>Kelas I Perempuan</th>\n",
              "    </tr>\n",
              "  </thead>\n",
              "  <tbody>\n",
              "    <tr>\n",
              "      <th>count</th>\n",
              "      <td>33.000000</td>\n",
              "      <td>33.000000</td>\n",
              "    </tr>\n",
              "    <tr>\n",
              "      <th>mean</th>\n",
              "      <td>27.515152</td>\n",
              "      <td>25.151515</td>\n",
              "    </tr>\n",
              "    <tr>\n",
              "      <th>std</th>\n",
              "      <td>19.426337</td>\n",
              "      <td>19.077345</td>\n",
              "    </tr>\n",
              "    <tr>\n",
              "      <th>min</th>\n",
              "      <td>6.000000</td>\n",
              "      <td>4.000000</td>\n",
              "    </tr>\n",
              "    <tr>\n",
              "      <th>25%</th>\n",
              "      <td>12.000000</td>\n",
              "      <td>12.000000</td>\n",
              "    </tr>\n",
              "    <tr>\n",
              "      <th>50%</th>\n",
              "      <td>22.000000</td>\n",
              "      <td>21.000000</td>\n",
              "    </tr>\n",
              "    <tr>\n",
              "      <th>75%</th>\n",
              "      <td>35.000000</td>\n",
              "      <td>33.000000</td>\n",
              "    </tr>\n",
              "    <tr>\n",
              "      <th>max</th>\n",
              "      <td>76.000000</td>\n",
              "      <td>79.000000</td>\n",
              "    </tr>\n",
              "  </tbody>\n",
              "</table>\n",
              "</div>\n",
              "      <button class=\"colab-df-convert\" onclick=\"convertToInteractive('df-d0e67768-874b-485c-85d5-52ea4b2febfd')\"\n",
              "              title=\"Convert this dataframe to an interactive table.\"\n",
              "              style=\"display:none;\">\n",
              "        \n",
              "  <svg xmlns=\"http://www.w3.org/2000/svg\" height=\"24px\"viewBox=\"0 0 24 24\"\n",
              "       width=\"24px\">\n",
              "    <path d=\"M0 0h24v24H0V0z\" fill=\"none\"/>\n",
              "    <path d=\"M18.56 5.44l.94 2.06.94-2.06 2.06-.94-2.06-.94-.94-2.06-.94 2.06-2.06.94zm-11 1L8.5 8.5l.94-2.06 2.06-.94-2.06-.94L8.5 2.5l-.94 2.06-2.06.94zm10 10l.94 2.06.94-2.06 2.06-.94-2.06-.94-.94-2.06-.94 2.06-2.06.94z\"/><path d=\"M17.41 7.96l-1.37-1.37c-.4-.4-.92-.59-1.43-.59-.52 0-1.04.2-1.43.59L10.3 9.45l-7.72 7.72c-.78.78-.78 2.05 0 2.83L4 21.41c.39.39.9.59 1.41.59.51 0 1.02-.2 1.41-.59l7.78-7.78 2.81-2.81c.8-.78.8-2.07 0-2.86zM5.41 20L4 18.59l7.72-7.72 1.47 1.35L5.41 20z\"/>\n",
              "  </svg>\n",
              "      </button>\n",
              "      \n",
              "  <style>\n",
              "    .colab-df-container {\n",
              "      display:flex;\n",
              "      flex-wrap:wrap;\n",
              "      gap: 12px;\n",
              "    }\n",
              "\n",
              "    .colab-df-convert {\n",
              "      background-color: #E8F0FE;\n",
              "      border: none;\n",
              "      border-radius: 50%;\n",
              "      cursor: pointer;\n",
              "      display: none;\n",
              "      fill: #1967D2;\n",
              "      height: 32px;\n",
              "      padding: 0 0 0 0;\n",
              "      width: 32px;\n",
              "    }\n",
              "\n",
              "    .colab-df-convert:hover {\n",
              "      background-color: #E2EBFA;\n",
              "      box-shadow: 0px 1px 2px rgba(60, 64, 67, 0.3), 0px 1px 3px 1px rgba(60, 64, 67, 0.15);\n",
              "      fill: #174EA6;\n",
              "    }\n",
              "\n",
              "    [theme=dark] .colab-df-convert {\n",
              "      background-color: #3B4455;\n",
              "      fill: #D2E3FC;\n",
              "    }\n",
              "\n",
              "    [theme=dark] .colab-df-convert:hover {\n",
              "      background-color: #434B5C;\n",
              "      box-shadow: 0px 1px 3px 1px rgba(0, 0, 0, 0.15);\n",
              "      filter: drop-shadow(0px 1px 2px rgba(0, 0, 0, 0.3));\n",
              "      fill: #FFFFFF;\n",
              "    }\n",
              "  </style>\n",
              "\n",
              "      <script>\n",
              "        const buttonEl =\n",
              "          document.querySelector('#df-d0e67768-874b-485c-85d5-52ea4b2febfd button.colab-df-convert');\n",
              "        buttonEl.style.display =\n",
              "          google.colab.kernel.accessAllowed ? 'block' : 'none';\n",
              "\n",
              "        async function convertToInteractive(key) {\n",
              "          const element = document.querySelector('#df-d0e67768-874b-485c-85d5-52ea4b2febfd');\n",
              "          const dataTable =\n",
              "            await google.colab.kernel.invokeFunction('convertToInteractive',\n",
              "                                                     [key], {});\n",
              "          if (!dataTable) return;\n",
              "\n",
              "          const docLinkHtml = 'Like what you see? Visit the ' +\n",
              "            '<a target=\"_blank\" href=https://colab.research.google.com/notebooks/data_table.ipynb>data table notebook</a>'\n",
              "            + ' to learn more about interactive tables.';\n",
              "          element.innerHTML = '';\n",
              "          dataTable['output_type'] = 'display_data';\n",
              "          await google.colab.output.renderOutput(dataTable, element);\n",
              "          const docLink = document.createElement('div');\n",
              "          docLink.innerHTML = docLinkHtml;\n",
              "          element.appendChild(docLink);\n",
              "        }\n",
              "      </script>\n",
              "    </div>\n",
              "  </div>\n",
              "  "
            ]
          },
          "metadata": {},
          "execution_count": 28
        }
      ]
    },
    {
      "cell_type": "code",
      "source": [
        "df"
      ],
      "metadata": {
        "colab": {
          "base_uri": "https://localhost:8080/",
          "height": 1000
        },
        "id": "QA9hw-k45TZU",
        "outputId": "5f57ef8c-7b75-4cc3-b555-def21d051f81"
      },
      "execution_count": 29,
      "outputs": [
        {
          "output_type": "execute_result",
          "data": {
            "text/plain": [
              "      Nama Kecamatan                Nama Sekolah  Kelas I Laki-laki  \\\n",
              "0            Cicendo         SD 1 KRISTEN PAULUS                  9   \n",
              "1           Lengkong               SD BUDI ISTRI                  6   \n",
              "2          Arcamanik  SD AL-IHSAN ISLAMIC SCHOOL                 14   \n",
              "3        Mandalajati                 SD ABU AZIS                 10   \n",
              "4        Batununggal            SD ALFA CENTAURI                 12   \n",
              "5           Buahbatu                SD BUDI ASIH                 11   \n",
              "6              Regol             SD BINA TALENTA                 10   \n",
              "7            Coblong        SD ADVENT II BANDUNG                 10   \n",
              "8            Coblong                 SD AL FALAH                  9   \n",
              "9              Andir           SD ADVENT CIMINDI                 15   \n",
              "10           Cicendo        SD AL FATAH AL HASAN                 13   \n",
              "11     Bandung Kulon              SD ANDIR MUKTI                 22   \n",
              "12  Bojong Loa Kaler               SD AL HIDAYAH                 32   \n",
              "13             Andir              SD BPMD TARUNA                 19   \n",
              "14     Sumur Bandung         SD 3 KRISTEN PAULUS                 23   \n",
              "15  Bojong Loa Kaler                 SD AL FATAH                 16   \n",
              "16           Coblong                  SD AL-AMIN                 20   \n",
              "17  Bojong Loa Kidul              SD BUDI SASTRA                 24   \n",
              "18           Cicendo                SD ANGKASA 3                 19   \n",
              "19   Babakan Ciparay               SD AL BAROKAH                 22   \n",
              "20          Buahbatu               SD AZ-ZAKIYAH                 35   \n",
              "21          Gedebage                  SD ASHFIYA                 32   \n",
              "22          Antapani              SD ASY-SYIFA 2                 22   \n",
              "23     Bandung Kulon             SD ATTAZHIMIYAH                 12   \n",
              "24          Sukajadi                SD AL IKHLAS                 51   \n",
              "25         Rancasari              SD ASY-SYIFA 1                 42   \n",
              "26  Bojong Loa Kidul            SD BINTANG MULIA                 53   \n",
              "27          Lengkong                      SD BPI                 54   \n",
              "28         Arcamanik           SD BINTANG MADANI                 31   \n",
              "29   Babakan Ciparay            SD CAHAYA PELITA                 62   \n",
              "30      Kiaracondong                   SD ARRAFI                 50   \n",
              "31     Sumur Bandung              SD AL AZHAR 36                 76   \n",
              "32             Regol                 SD ASSALAAM                 72   \n",
              "\n",
              "    Kelas I Perempuan  \n",
              "0                   4  \n",
              "1                   5  \n",
              "2                   8  \n",
              "3                   5  \n",
              "4                   8  \n",
              "5                   8  \n",
              "6                  11  \n",
              "7                   7  \n",
              "8                  13  \n",
              "9                  16  \n",
              "10                 12  \n",
              "11                 20  \n",
              "12                 24  \n",
              "13                 21  \n",
              "14                 21  \n",
              "15                 15  \n",
              "16                 12  \n",
              "17                 26  \n",
              "18                 17  \n",
              "19                 24  \n",
              "20                 24  \n",
              "21                 22  \n",
              "22                 33  \n",
              "23                 13  \n",
              "24                 29  \n",
              "25                 39  \n",
              "26                 47  \n",
              "27                 46  \n",
              "28                 45  \n",
              "29                 54  \n",
              "30                 53  \n",
              "31                 79  \n",
              "32                 69  "
            ],
            "text/html": [
              "\n",
              "  <div id=\"df-cc1ec5c4-6f08-4f0a-a670-5353f5307996\">\n",
              "    <div class=\"colab-df-container\">\n",
              "      <div>\n",
              "<style scoped>\n",
              "    .dataframe tbody tr th:only-of-type {\n",
              "        vertical-align: middle;\n",
              "    }\n",
              "\n",
              "    .dataframe tbody tr th {\n",
              "        vertical-align: top;\n",
              "    }\n",
              "\n",
              "    .dataframe thead th {\n",
              "        text-align: right;\n",
              "    }\n",
              "</style>\n",
              "<table border=\"1\" class=\"dataframe\">\n",
              "  <thead>\n",
              "    <tr style=\"text-align: right;\">\n",
              "      <th></th>\n",
              "      <th>Nama Kecamatan</th>\n",
              "      <th>Nama Sekolah</th>\n",
              "      <th>Kelas I Laki-laki</th>\n",
              "      <th>Kelas I Perempuan</th>\n",
              "    </tr>\n",
              "  </thead>\n",
              "  <tbody>\n",
              "    <tr>\n",
              "      <th>0</th>\n",
              "      <td>Cicendo</td>\n",
              "      <td>SD 1 KRISTEN PAULUS</td>\n",
              "      <td>9</td>\n",
              "      <td>4</td>\n",
              "    </tr>\n",
              "    <tr>\n",
              "      <th>1</th>\n",
              "      <td>Lengkong</td>\n",
              "      <td>SD BUDI ISTRI</td>\n",
              "      <td>6</td>\n",
              "      <td>5</td>\n",
              "    </tr>\n",
              "    <tr>\n",
              "      <th>2</th>\n",
              "      <td>Arcamanik</td>\n",
              "      <td>SD AL-IHSAN ISLAMIC SCHOOL</td>\n",
              "      <td>14</td>\n",
              "      <td>8</td>\n",
              "    </tr>\n",
              "    <tr>\n",
              "      <th>3</th>\n",
              "      <td>Mandalajati</td>\n",
              "      <td>SD ABU AZIS</td>\n",
              "      <td>10</td>\n",
              "      <td>5</td>\n",
              "    </tr>\n",
              "    <tr>\n",
              "      <th>4</th>\n",
              "      <td>Batununggal</td>\n",
              "      <td>SD ALFA CENTAURI</td>\n",
              "      <td>12</td>\n",
              "      <td>8</td>\n",
              "    </tr>\n",
              "    <tr>\n",
              "      <th>5</th>\n",
              "      <td>Buahbatu</td>\n",
              "      <td>SD BUDI ASIH</td>\n",
              "      <td>11</td>\n",
              "      <td>8</td>\n",
              "    </tr>\n",
              "    <tr>\n",
              "      <th>6</th>\n",
              "      <td>Regol</td>\n",
              "      <td>SD BINA TALENTA</td>\n",
              "      <td>10</td>\n",
              "      <td>11</td>\n",
              "    </tr>\n",
              "    <tr>\n",
              "      <th>7</th>\n",
              "      <td>Coblong</td>\n",
              "      <td>SD ADVENT II BANDUNG</td>\n",
              "      <td>10</td>\n",
              "      <td>7</td>\n",
              "    </tr>\n",
              "    <tr>\n",
              "      <th>8</th>\n",
              "      <td>Coblong</td>\n",
              "      <td>SD AL FALAH</td>\n",
              "      <td>9</td>\n",
              "      <td>13</td>\n",
              "    </tr>\n",
              "    <tr>\n",
              "      <th>9</th>\n",
              "      <td>Andir</td>\n",
              "      <td>SD ADVENT CIMINDI</td>\n",
              "      <td>15</td>\n",
              "      <td>16</td>\n",
              "    </tr>\n",
              "    <tr>\n",
              "      <th>10</th>\n",
              "      <td>Cicendo</td>\n",
              "      <td>SD AL FATAH AL HASAN</td>\n",
              "      <td>13</td>\n",
              "      <td>12</td>\n",
              "    </tr>\n",
              "    <tr>\n",
              "      <th>11</th>\n",
              "      <td>Bandung Kulon</td>\n",
              "      <td>SD ANDIR MUKTI</td>\n",
              "      <td>22</td>\n",
              "      <td>20</td>\n",
              "    </tr>\n",
              "    <tr>\n",
              "      <th>12</th>\n",
              "      <td>Bojong Loa Kaler</td>\n",
              "      <td>SD AL HIDAYAH</td>\n",
              "      <td>32</td>\n",
              "      <td>24</td>\n",
              "    </tr>\n",
              "    <tr>\n",
              "      <th>13</th>\n",
              "      <td>Andir</td>\n",
              "      <td>SD BPMD TARUNA</td>\n",
              "      <td>19</td>\n",
              "      <td>21</td>\n",
              "    </tr>\n",
              "    <tr>\n",
              "      <th>14</th>\n",
              "      <td>Sumur Bandung</td>\n",
              "      <td>SD 3 KRISTEN PAULUS</td>\n",
              "      <td>23</td>\n",
              "      <td>21</td>\n",
              "    </tr>\n",
              "    <tr>\n",
              "      <th>15</th>\n",
              "      <td>Bojong Loa Kaler</td>\n",
              "      <td>SD AL FATAH</td>\n",
              "      <td>16</td>\n",
              "      <td>15</td>\n",
              "    </tr>\n",
              "    <tr>\n",
              "      <th>16</th>\n",
              "      <td>Coblong</td>\n",
              "      <td>SD AL-AMIN</td>\n",
              "      <td>20</td>\n",
              "      <td>12</td>\n",
              "    </tr>\n",
              "    <tr>\n",
              "      <th>17</th>\n",
              "      <td>Bojong Loa Kidul</td>\n",
              "      <td>SD BUDI SASTRA</td>\n",
              "      <td>24</td>\n",
              "      <td>26</td>\n",
              "    </tr>\n",
              "    <tr>\n",
              "      <th>18</th>\n",
              "      <td>Cicendo</td>\n",
              "      <td>SD ANGKASA 3</td>\n",
              "      <td>19</td>\n",
              "      <td>17</td>\n",
              "    </tr>\n",
              "    <tr>\n",
              "      <th>19</th>\n",
              "      <td>Babakan Ciparay</td>\n",
              "      <td>SD AL BAROKAH</td>\n",
              "      <td>22</td>\n",
              "      <td>24</td>\n",
              "    </tr>\n",
              "    <tr>\n",
              "      <th>20</th>\n",
              "      <td>Buahbatu</td>\n",
              "      <td>SD AZ-ZAKIYAH</td>\n",
              "      <td>35</td>\n",
              "      <td>24</td>\n",
              "    </tr>\n",
              "    <tr>\n",
              "      <th>21</th>\n",
              "      <td>Gedebage</td>\n",
              "      <td>SD ASHFIYA</td>\n",
              "      <td>32</td>\n",
              "      <td>22</td>\n",
              "    </tr>\n",
              "    <tr>\n",
              "      <th>22</th>\n",
              "      <td>Antapani</td>\n",
              "      <td>SD ASY-SYIFA 2</td>\n",
              "      <td>22</td>\n",
              "      <td>33</td>\n",
              "    </tr>\n",
              "    <tr>\n",
              "      <th>23</th>\n",
              "      <td>Bandung Kulon</td>\n",
              "      <td>SD ATTAZHIMIYAH</td>\n",
              "      <td>12</td>\n",
              "      <td>13</td>\n",
              "    </tr>\n",
              "    <tr>\n",
              "      <th>24</th>\n",
              "      <td>Sukajadi</td>\n",
              "      <td>SD AL IKHLAS</td>\n",
              "      <td>51</td>\n",
              "      <td>29</td>\n",
              "    </tr>\n",
              "    <tr>\n",
              "      <th>25</th>\n",
              "      <td>Rancasari</td>\n",
              "      <td>SD ASY-SYIFA 1</td>\n",
              "      <td>42</td>\n",
              "      <td>39</td>\n",
              "    </tr>\n",
              "    <tr>\n",
              "      <th>26</th>\n",
              "      <td>Bojong Loa Kidul</td>\n",
              "      <td>SD BINTANG MULIA</td>\n",
              "      <td>53</td>\n",
              "      <td>47</td>\n",
              "    </tr>\n",
              "    <tr>\n",
              "      <th>27</th>\n",
              "      <td>Lengkong</td>\n",
              "      <td>SD BPI</td>\n",
              "      <td>54</td>\n",
              "      <td>46</td>\n",
              "    </tr>\n",
              "    <tr>\n",
              "      <th>28</th>\n",
              "      <td>Arcamanik</td>\n",
              "      <td>SD BINTANG MADANI</td>\n",
              "      <td>31</td>\n",
              "      <td>45</td>\n",
              "    </tr>\n",
              "    <tr>\n",
              "      <th>29</th>\n",
              "      <td>Babakan Ciparay</td>\n",
              "      <td>SD CAHAYA PELITA</td>\n",
              "      <td>62</td>\n",
              "      <td>54</td>\n",
              "    </tr>\n",
              "    <tr>\n",
              "      <th>30</th>\n",
              "      <td>Kiaracondong</td>\n",
              "      <td>SD ARRAFI</td>\n",
              "      <td>50</td>\n",
              "      <td>53</td>\n",
              "    </tr>\n",
              "    <tr>\n",
              "      <th>31</th>\n",
              "      <td>Sumur Bandung</td>\n",
              "      <td>SD AL AZHAR 36</td>\n",
              "      <td>76</td>\n",
              "      <td>79</td>\n",
              "    </tr>\n",
              "    <tr>\n",
              "      <th>32</th>\n",
              "      <td>Regol</td>\n",
              "      <td>SD ASSALAAM</td>\n",
              "      <td>72</td>\n",
              "      <td>69</td>\n",
              "    </tr>\n",
              "  </tbody>\n",
              "</table>\n",
              "</div>\n",
              "      <button class=\"colab-df-convert\" onclick=\"convertToInteractive('df-cc1ec5c4-6f08-4f0a-a670-5353f5307996')\"\n",
              "              title=\"Convert this dataframe to an interactive table.\"\n",
              "              style=\"display:none;\">\n",
              "        \n",
              "  <svg xmlns=\"http://www.w3.org/2000/svg\" height=\"24px\"viewBox=\"0 0 24 24\"\n",
              "       width=\"24px\">\n",
              "    <path d=\"M0 0h24v24H0V0z\" fill=\"none\"/>\n",
              "    <path d=\"M18.56 5.44l.94 2.06.94-2.06 2.06-.94-2.06-.94-.94-2.06-.94 2.06-2.06.94zm-11 1L8.5 8.5l.94-2.06 2.06-.94-2.06-.94L8.5 2.5l-.94 2.06-2.06.94zm10 10l.94 2.06.94-2.06 2.06-.94-2.06-.94-.94-2.06-.94 2.06-2.06.94z\"/><path d=\"M17.41 7.96l-1.37-1.37c-.4-.4-.92-.59-1.43-.59-.52 0-1.04.2-1.43.59L10.3 9.45l-7.72 7.72c-.78.78-.78 2.05 0 2.83L4 21.41c.39.39.9.59 1.41.59.51 0 1.02-.2 1.41-.59l7.78-7.78 2.81-2.81c.8-.78.8-2.07 0-2.86zM5.41 20L4 18.59l7.72-7.72 1.47 1.35L5.41 20z\"/>\n",
              "  </svg>\n",
              "      </button>\n",
              "      \n",
              "  <style>\n",
              "    .colab-df-container {\n",
              "      display:flex;\n",
              "      flex-wrap:wrap;\n",
              "      gap: 12px;\n",
              "    }\n",
              "\n",
              "    .colab-df-convert {\n",
              "      background-color: #E8F0FE;\n",
              "      border: none;\n",
              "      border-radius: 50%;\n",
              "      cursor: pointer;\n",
              "      display: none;\n",
              "      fill: #1967D2;\n",
              "      height: 32px;\n",
              "      padding: 0 0 0 0;\n",
              "      width: 32px;\n",
              "    }\n",
              "\n",
              "    .colab-df-convert:hover {\n",
              "      background-color: #E2EBFA;\n",
              "      box-shadow: 0px 1px 2px rgba(60, 64, 67, 0.3), 0px 1px 3px 1px rgba(60, 64, 67, 0.15);\n",
              "      fill: #174EA6;\n",
              "    }\n",
              "\n",
              "    [theme=dark] .colab-df-convert {\n",
              "      background-color: #3B4455;\n",
              "      fill: #D2E3FC;\n",
              "    }\n",
              "\n",
              "    [theme=dark] .colab-df-convert:hover {\n",
              "      background-color: #434B5C;\n",
              "      box-shadow: 0px 1px 3px 1px rgba(0, 0, 0, 0.15);\n",
              "      filter: drop-shadow(0px 1px 2px rgba(0, 0, 0, 0.3));\n",
              "      fill: #FFFFFF;\n",
              "    }\n",
              "  </style>\n",
              "\n",
              "      <script>\n",
              "        const buttonEl =\n",
              "          document.querySelector('#df-cc1ec5c4-6f08-4f0a-a670-5353f5307996 button.colab-df-convert');\n",
              "        buttonEl.style.display =\n",
              "          google.colab.kernel.accessAllowed ? 'block' : 'none';\n",
              "\n",
              "        async function convertToInteractive(key) {\n",
              "          const element = document.querySelector('#df-cc1ec5c4-6f08-4f0a-a670-5353f5307996');\n",
              "          const dataTable =\n",
              "            await google.colab.kernel.invokeFunction('convertToInteractive',\n",
              "                                                     [key], {});\n",
              "          if (!dataTable) return;\n",
              "\n",
              "          const docLinkHtml = 'Like what you see? Visit the ' +\n",
              "            '<a target=\"_blank\" href=https://colab.research.google.com/notebooks/data_table.ipynb>data table notebook</a>'\n",
              "            + ' to learn more about interactive tables.';\n",
              "          element.innerHTML = '';\n",
              "          dataTable['output_type'] = 'display_data';\n",
              "          await google.colab.output.renderOutput(dataTable, element);\n",
              "          const docLink = document.createElement('div');\n",
              "          docLink.innerHTML = docLinkHtml;\n",
              "          element.appendChild(docLink);\n",
              "        }\n",
              "      </script>\n",
              "    </div>\n",
              "  </div>\n",
              "  "
            ]
          },
          "metadata": {},
          "execution_count": 29
        }
      ]
    },
    {
      "cell_type": "code",
      "source": [
        "import matplotlib.pyplot as plt\n",
        "\n",
        "df.plot(kind='scatter',x='Kelas I Laki-laki',y='Kelas I Perempuan')\n",
        "\n",
        "plt.title('Data Murid SD')\n",
        "plt.xlabel('Kelas I Laki-laki')\n",
        "plt.ylabel('Kelas I Perempuan')\n",
        "plt.xlim(0, 100)\n",
        "plt.ylim(0, 100)\n",
        "plt.grid(True)\n",
        "plt.show()"
      ],
      "metadata": {
        "colab": {
          "base_uri": "https://localhost:8080/",
          "height": 295
        },
        "id": "OELdwfhG5U3b",
        "outputId": "2e64c51c-2381-475d-b98a-206b8b6467d8"
      },
      "execution_count": 46,
      "outputs": [
        {
          "output_type": "display_data",
          "data": {
            "text/plain": [
              "<Figure size 432x288 with 1 Axes>"
            ],
            "image/png": "[encoded data removed]"
          },
          "metadata": {
            "needs_background": "light"
          }
        }
      ]
    },
    {
      "cell_type": "code",
      "source": [
        "import numpy as np\n",
        "x = np.array(df['Kelas I Laki-laki'])\n",
        "y = np.array(df['Kelas I Perempuan'])\n",
        "print(f'X : {x}')\n",
        "print(f'Y : {y}')"
      ],
      "metadata": {
        "colab": {
          "base_uri": "https://localhost:8080/"
        },
        "id": "9c6wSM2l6Ixm",
        "outputId": "bb2ffaad-05e3-4d88-ac85-194877140ba3"
      },
      "execution_count": 33,
      "outputs": [
        {
          "output_type": "stream",
          "name": "stdout",
          "text": [
            "X : [ 9  6 14 10 12 11 10 10  9 15 13 22 32 19 23 16 20 24 19 22 35 32 22 12\n",
            " 51 42 53 54 31 62 50 76 72]\n",
            "Y : [ 4  5  8  5  8  8 11  7 13 16 12 20 24 21 21 15 12 26 17 24 24 22 33 13\n",
            " 29 39 47 46 45 54 53 79 69]\n"
          ]
        }
      ]
    },
    {
      "cell_type": "code",
      "source": [
        "x = x.reshape(-1, 1)\n",
        "x.shape"
      ],
      "metadata": {
        "colab": {
          "base_uri": "https://localhost:8080/"
        },
        "id": "drTxmu5i61nw",
        "outputId": "d6c45803-6924-4dcf-8f56-d89d56910307"
      },
      "execution_count": 34,
      "outputs": [
        {
          "output_type": "execute_result",
          "data": {
            "text/plain": [
              "(33, 1)"
            ]
          },
          "metadata": {},
          "execution_count": 34
        }
      ]
    },
    {
      "cell_type": "code",
      "source": [
        "x"
      ],
      "metadata": {
        "colab": {
          "base_uri": "https://localhost:8080/"
        },
        "id": "IjkGqpbR69Mm",
        "outputId": "4c59d06c-76c0-4d91-96bc-61ff53303148"
      },
      "execution_count": 35,
      "outputs": [
        {
          "output_type": "execute_result",
          "data": {
            "text/plain": [
              "array([[ 9],\n",
              "       [ 6],\n",
              "       [14],\n",
              "       [10],\n",
              "       [12],\n",
              "       [11],\n",
              "       [10],\n",
              "       [10],\n",
              "       [ 9],\n",
              "       [15],\n",
              "       [13],\n",
              "       [22],\n",
              "       [32],\n",
              "       [19],\n",
              "       [23],\n",
              "       [16],\n",
              "       [20],\n",
              "       [24],\n",
              "       [19],\n",
              "       [22],\n",
              "       [35],\n",
              "       [32],\n",
              "       [22],\n",
              "       [12],\n",
              "       [51],\n",
              "       [42],\n",
              "       [53],\n",
              "       [54],\n",
              "       [31],\n",
              "       [62],\n",
              "       [50],\n",
              "       [76],\n",
              "       [72]])"
            ]
          },
          "metadata": {},
          "execution_count": 35
        }
      ]
    },
    {
      "cell_type": "code",
      "source": [
        "from sklearn.linear_model import LinearRegression\n",
        "\n",
        "model = LinearRegression()\n",
        "model.fit(x,y)"
      ],
      "metadata": {
        "colab": {
          "base_uri": "https://localhost:8080/"
        },
        "id": "3RKUP37A6_OG",
        "outputId": "518b7ed4-6cb8-4c2e-9237-f4d39b4d6c4b"
      },
      "execution_count": 36,
      "outputs": [
        {
          "output_type": "execute_result",
          "data": {
            "text/plain": [
              "LinearRegression()"
            ]
          },
          "metadata": {},
          "execution_count": 36
        }
      ]
    },
    {
      "cell_type": "code",
      "source": [
        "x_vis = np.array([0, 100]).reshape(-1,1) #Pembuatan Garis Merah\n",
        "y_vis = model.predict(x_vis) #Model machine learning"
      ],
      "metadata": {
        "id": "GVKLwEnw7D-G"
      },
      "execution_count": 38,
      "outputs": []
    },
    {
      "cell_type": "code",
      "source": [
        "plt.scatter(x,y)\n",
        "plt.plot(x_vis, y_vis, '-r')\n",
        "plt.title('Data Murid SD')\n",
        "plt.xlabel('Kelas I Laki-laki')\n",
        "plt.ylabel('Kelas I Perempuan')\n",
        "plt.xlim(0, 100)\n",
        "plt.ylim(0, 100)\n",
        "plt.grid(True)\n",
        "plt.show()"
      ],
      "metadata": {
        "colab": {
          "base_uri": "https://localhost:8080/",
          "height": 295
        },
        "id": "PdpJ62yy7GHf",
        "outputId": "21687a54-c103-478f-d684-e47bc2e4f01f"
      },
      "execution_count": 47,
      "outputs": [
        {
          "output_type": "display_data",
          "data": {
            "text/plain": [
              "<Figure size 432x288 with 1 Axes>"
            ],
            "image/png": "[encoded data removed]"
          },
          "metadata": {
            "needs_background": "light"
          }
        }
      ]
    },
    {
      "cell_type": "code",
      "source": [
        "print(f'intercept : {model.intercept_}')\n",
        "print(f\"slope : {model.coef_}\")"
      ],
      "metadata": {
        "colab": {
          "base_uri": "https://localhost:8080/"
        },
        "id": "ITCCZ1CfCev5",
        "outputId": "2cf9df1a-4412-4082-b3e6-14b23e9d0d4a"
      },
      "execution_count": 55,
      "outputs": [
        {
          "output_type": "stream",
          "name": "stdout",
          "text": [
            "intercept : -0.35673348121531134\n",
            "slope : [0.9270619]\n"
          ]
        }
      ]
    },
    {
      "cell_type": "code",
      "source": [
        "#Prediksi sample data\n",
        "jml_p = np.array([25, 30, 40, 30]).reshape(-1,1)\n",
        "jml_p"
      ],
      "metadata": {
        "colab": {
          "base_uri": "https://localhost:8080/"
        },
        "id": "F3mDDRqyCfUg",
        "outputId": "a38dd9e2-5553-4bbb-88b5-aa3f8a50ef6f"
      },
      "execution_count": 56,
      "outputs": [
        {
          "output_type": "execute_result",
          "data": {
            "text/plain": [
              "array([[25],\n",
              "       [30],\n",
              "       [40],\n",
              "       [30]])"
            ]
          },
          "metadata": {},
          "execution_count": 56
        }
      ]
    },
    {
      "cell_type": "code",
      "source": [
        "prediksi_pakta = model.predict(jml_p)\n",
        "prediksi_pakta"
      ],
      "metadata": {
        "colab": {
          "base_uri": "https://localhost:8080/"
        },
        "id": "dJcVgd9vChPY",
        "outputId": "817fa70c-e3e0-4761-f6a7-374c5e81b98a"
      },
      "execution_count": 57,
      "outputs": [
        {
          "output_type": "execute_result",
          "data": {
            "text/plain": [
              "array([22.81981401, 27.45512351, 36.7257425 , 27.45512351])"
            ]
          },
          "metadata": {},
          "execution_count": 57
        }
      ]
    },
    {
      "cell_type": "code",
      "source": [
        "for jml_p, prediksi_pakta in zip(jml_p, prediksi_pakta):\n",
        "  print(f'Jumlah Murid Kelas I : {jml_p} Prediksi Indeks : {prediksi_pakta}')"
      ],
      "metadata": {
        "colab": {
          "base_uri": "https://localhost:8080/"
        },
        "id": "CaWrqfMuCmqw",
        "outputId": "c52c059c-887f-42cf-f97e-4a6d3078935a"
      },
      "execution_count": 58,
      "outputs": [
        {
          "output_type": "stream",
          "name": "stdout",
          "text": [
            "Jumlah Murid Kelas I : [25] Prediksi Indeks : 22.819814009977016\n",
            "Jumlah Murid Kelas I : [30] Prediksi Indeks : 27.45512350821548\n",
            "Jumlah Murid Kelas I : [40] Prediksi Indeks : 36.725742504692406\n",
            "Jumlah Murid Kelas I : [30] Prediksi Indeks : 27.45512350821548\n"
          ]
        }
      ]
    },
    {
      "cell_type": "code",
      "source": [
        "print(\"Jumlah Kelas I Laki-laki: \")\n",
        "df['Kelas I Laki-laki'].sum()"
      ],
      "metadata": {
        "colab": {
          "base_uri": "https://localhost:8080/"
        },
        "id": "KpAdu6ptCpmI",
        "outputId": "a2c77676-9ab6-4ef6-beca-c1d734f70866"
      },
      "execution_count": 49,
      "outputs": [
        {
          "output_type": "stream",
          "name": "stdout",
          "text": [
            "Jumlah Kelas I Laki-laki: \n"
          ]
        },
        {
          "output_type": "execute_result",
          "data": {
            "text/plain": [
              "908"
            ]
          },
          "metadata": {},
          "execution_count": 49
        }
      ]
    },
    {
      "cell_type": "code",
      "source": [
        "print(\"Jumlah Kelas I Perempuan: \")\n",
        "df['Kelas I Perempuan'].sum()"
      ],
      "metadata": {
        "colab": {
          "base_uri": "https://localhost:8080/"
        },
        "id": "0EcZAkTeC8zQ",
        "outputId": "692e4e2e-f162-40cc-e169-fc8b0890f512"
      },
      "execution_count": 51,
      "outputs": [
        {
          "output_type": "stream",
          "name": "stdout",
          "text": [
            "Jumlah Kelas I Perempuan: \n"
          ]
        },
        {
          "output_type": "execute_result",
          "data": {
            "text/plain": [
              "830"
            ]
          },
          "metadata": {},
          "execution_count": 51
        }
      ]
    },
    {
      "cell_type": "code",
      "source": [
        "print(\"\")\n",
        "fig = plt.figure()\n",
        "ax = fig.add_axes([0,0,1,1])\n",
        "L = ['Kelas I Laki-laki','Kelas I Perempuan']\n",
        "jumlah = [908,830]\n",
        "plt.title(\"Garik Bar Kelas I \")\n",
        "ax.bar(L,jumlah )\n",
        "plt.show()\n",
        "\n",
        "#Pie chart\n",
        "print(\"\")\n",
        "fig = plt.figure()\n",
        "ax = fig.add_axes([0,0,1,1])\n",
        "ax.axis('equal')\n",
        "L = ['Kelas I Laki-laki','Kelas I Perempuan']\n",
        "jumlah = [908,830]\n",
        "ax.pie(jumlah,labels=L,autopct=\"%1.2f%%\")\n",
        "plt.title(\"Garik pie chart Kelas I\")\n",
        "plt.show()"
      ],
      "metadata": {
        "colab": {
          "base_uri": "https://localhost:8080/",
          "height": 707
        },
        "id": "_E0e50eNDDyQ",
        "outputId": "021cc7d3-7324-4d7b-9d8e-f584e6ab9c95"
      },
      "execution_count": 53,
      "outputs": [
        {
          "output_type": "stream",
          "name": "stdout",
          "text": [
            "\n"
          ]
        },
        {
          "output_type": "display_data",
          "data": {
            "text/plain": [
              "<Figure size 432x288 with 1 Axes>"
            ],
            "image/png": "[encoded data removed]"
          },
          "metadata": {
            "needs_background": "light"
          }
        },
        {
          "output_type": "stream",
          "name": "stdout",
          "text": [
            "\n"
          ]
        },
        {
          "output_type": "display_data",
          "data": {
            "text/plain": [
              "<Figure size 432x288 with 1 Axes>"
            ],
            "image/png": "[encoded data removed]"
          },
          "metadata": {}
        }
      ]
    }
  ]
}